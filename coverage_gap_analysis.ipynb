{
 "cells": [
  {
   "cell_type": "markdown",
   "id": "3e0538cc",
   "metadata": {},
   "source": [
    "# Possible coverage gaps during Medicaid Unwinding"
   ]
  },
  {
   "cell_type": "markdown",
   "id": "d7a8f4fb",
   "metadata": {},
   "source": [
    "### Step 1.a"
   ]
  },
  {
   "cell_type": "markdown",
   "id": "09006715",
   "metadata": {},
   "source": [
    "The Excel links in Steps 1-2 are available [here](https://www.medicaid.gov/resources-for-states/coronavirus-disease-2019-covid-19/unwinding-and-returning-regular-operations-after-covid-19/data-reporting/monthly-data-reports/index.html) under \"Medicaid and CHIP CAA Reporting Metrics\". \n",
    "\n",
    "This first dataset is the most recent to be released on a monthly basis. As a part of the data cleaning and transformation process, it will be combined with others from previous months.\n",
    "\n",
    "The following rows are skipped because:\n",
    "- row 0 is the document title and is non functional\n",
    "- row 2 represents cumulative country wide data, which will not be used in this analysis\n",
    "- rows 54-59 contain data notes and an accessibility feature"
   ]
  },
  {
   "cell_type": "code",
   "execution_count": 1,
   "id": "a357cf23",
   "metadata": {},
   "outputs": [
    {
     "data": {
      "text/html": [
       "<div>\n",
       "<style scoped>\n",
       "    .dataframe tbody tr th:only-of-type {\n",
       "        vertical-align: middle;\n",
       "    }\n",
       "\n",
       "    .dataframe tbody tr th {\n",
       "        vertical-align: top;\n",
       "    }\n",
       "\n",
       "    .dataframe thead th {\n",
       "        text-align: right;\n",
       "    }\n",
       "</style>\n",
       "<table border=\"1\" class=\"dataframe\">\n",
       "  <thead>\n",
       "    <tr style=\"text-align: right;\">\n",
       "      <th></th>\n",
       "      <th>State</th>\n",
       "      <th>Total number of Medicaid and CHIP beneficiaries for whom a renewal was initiated in the reporting month\\n(Metric 4)</th>\n",
       "      <th>Total number of beneficiaries due for renewal in the reporting month\\n(Metric 5)</th>\n",
       "      <th>Total number of beneficiaries due for renewal in the reporting month whose coverage was renewed\\n(Metric 5a)</th>\n",
       "      <th>Total beneficiaries renewed on an ex parte basis (i.e. based on available information)\\n(Metric 5a1)</th>\n",
       "      <th>Total beneficiaries renewed based on the return of a renewal form\\n(Metric 5a2)</th>\n",
       "      <th>Total number of beneficiaries due for renewal in the reporting month whose coverage was terminated\\n(Metric 5b + 5c)</th>\n",
       "      <th>Total beneficiaries determined ineligible for Medicaid and CHIP based on the return of a renewal form\\n(Metric 5b)</th>\n",
       "      <th>Total beneficiaries whose coverage was terminated for a procedural or administrative reason\\n(Metric 5c)</th>\n",
       "      <th>Total number of beneficiaries due for renewal in the reporting month whose renewal was pending at the end of the month\\n(Metric 5d)</th>\n",
       "      <th>Data notes</th>\n",
       "    </tr>\n",
       "  </thead>\n",
       "  <tbody>\n",
       "    <tr>\n",
       "      <th>0</th>\n",
       "      <td>AK</td>\n",
       "      <td>16448</td>\n",
       "      <td>12729</td>\n",
       "      <td>4710</td>\n",
       "      <td>3288</td>\n",
       "      <td>1422</td>\n",
       "      <td>2271</td>\n",
       "      <td>1501</td>\n",
       "      <td>770</td>\n",
       "      <td>5748</td>\n",
       "      <td>R4, R8</td>\n",
       "    </tr>\n",
       "    <tr>\n",
       "      <th>1</th>\n",
       "      <td>AL</td>\n",
       "      <td>85889</td>\n",
       "      <td>103109</td>\n",
       "      <td>67036</td>\n",
       "      <td>40593</td>\n",
       "      <td>26443</td>\n",
       "      <td>33465</td>\n",
       "      <td>3998</td>\n",
       "      <td>29467</td>\n",
       "      <td>2608</td>\n",
       "      <td>Blank</td>\n",
       "    </tr>\n",
       "    <tr>\n",
       "      <th>2</th>\n",
       "      <td>AR</td>\n",
       "      <td>41433</td>\n",
       "      <td>43579</td>\n",
       "      <td>37454</td>\n",
       "      <td>33613</td>\n",
       "      <td>3841</td>\n",
       "      <td>4599</td>\n",
       "      <td>1009</td>\n",
       "      <td>3590</td>\n",
       "      <td>1526</td>\n",
       "      <td>Blank</td>\n",
       "    </tr>\n",
       "    <tr>\n",
       "      <th>3</th>\n",
       "      <td>AZ</td>\n",
       "      <td>168860</td>\n",
       "      <td>200682</td>\n",
       "      <td>175434</td>\n",
       "      <td>164094</td>\n",
       "      <td>11340</td>\n",
       "      <td>20761</td>\n",
       "      <td>6807</td>\n",
       "      <td>13954</td>\n",
       "      <td>4487</td>\n",
       "      <td>Blank</td>\n",
       "    </tr>\n",
       "    <tr>\n",
       "      <th>4</th>\n",
       "      <td>CA</td>\n",
       "      <td>1210592</td>\n",
       "      <td>1255471</td>\n",
       "      <td>899931</td>\n",
       "      <td>829478</td>\n",
       "      <td>70453</td>\n",
       "      <td>108863</td>\n",
       "      <td>20595</td>\n",
       "      <td>88268</td>\n",
       "      <td>246677</td>\n",
       "      <td>Blank</td>\n",
       "    </tr>\n",
       "  </tbody>\n",
       "</table>\n",
       "</div>"
      ],
      "text/plain": [
       "  State  \\\n",
       "0    AK   \n",
       "1    AL   \n",
       "2    AR   \n",
       "3    AZ   \n",
       "4    CA   \n",
       "\n",
       "   Total number of Medicaid and CHIP beneficiaries for whom a renewal was initiated in the reporting month\\n(Metric 4)  \\\n",
       "0                                              16448                                                                     \n",
       "1                                              85889                                                                     \n",
       "2                                              41433                                                                     \n",
       "3                                             168860                                                                     \n",
       "4                                            1210592                                                                     \n",
       "\n",
       "   Total number of beneficiaries due for renewal in the reporting month\\n(Metric 5)  \\\n",
       "0                                              12729                                  \n",
       "1                                             103109                                  \n",
       "2                                              43579                                  \n",
       "3                                             200682                                  \n",
       "4                                            1255471                                  \n",
       "\n",
       "   Total number of beneficiaries due for renewal in the reporting month whose coverage was renewed\\n(Metric 5a)  \\\n",
       "0                                               4710                                                              \n",
       "1                                              67036                                                              \n",
       "2                                              37454                                                              \n",
       "3                                             175434                                                              \n",
       "4                                             899931                                                              \n",
       "\n",
       "   Total beneficiaries renewed on an ex parte basis (i.e. based on available information)\\n(Metric 5a1)  \\\n",
       "0                                               3288                                                      \n",
       "1                                              40593                                                      \n",
       "2                                              33613                                                      \n",
       "3                                             164094                                                      \n",
       "4                                             829478                                                      \n",
       "\n",
       "   Total beneficiaries renewed based on the return of a renewal form\\n(Metric 5a2)  \\\n",
       "0                                               1422                                 \n",
       "1                                              26443                                 \n",
       "2                                               3841                                 \n",
       "3                                              11340                                 \n",
       "4                                              70453                                 \n",
       "\n",
       "   Total number of beneficiaries due for renewal in the reporting month whose coverage was terminated\\n(Metric 5b + 5c)  \\\n",
       "0                                               2271                                                                      \n",
       "1                                              33465                                                                      \n",
       "2                                               4599                                                                      \n",
       "3                                              20761                                                                      \n",
       "4                                             108863                                                                      \n",
       "\n",
       "   Total beneficiaries determined ineligible for Medicaid and CHIP based on the return of a renewal form\\n(Metric 5b)  \\\n",
       "0                                               1501                                                                    \n",
       "1                                               3998                                                                    \n",
       "2                                               1009                                                                    \n",
       "3                                               6807                                                                    \n",
       "4                                              20595                                                                    \n",
       "\n",
       "   Total beneficiaries whose coverage was terminated for a procedural or administrative reason\\n(Metric 5c)  \\\n",
       "0                                                770                                                          \n",
       "1                                              29467                                                          \n",
       "2                                               3590                                                          \n",
       "3                                              13954                                                          \n",
       "4                                              88268                                                          \n",
       "\n",
       "   Total number of beneficiaries due for renewal in the reporting month whose renewal was pending at the end of the month\\n(Metric 5d)  \\\n",
       "0                                               5748                                                                                     \n",
       "1                                               2608                                                                                     \n",
       "2                                               1526                                                                                     \n",
       "3                                               4487                                                                                     \n",
       "4                                             246677                                                                                     \n",
       "\n",
       "  Data notes  \n",
       "0     R4, R8  \n",
       "1      Blank  \n",
       "2      Blank  \n",
       "3      Blank  \n",
       "4      Blank  "
      ]
     },
     "execution_count": 1,
     "metadata": {},
     "output_type": "execute_result"
    }
   ],
   "source": [
    "import pandas as pd\n",
    "\n",
    "dec_medicaid = pd.read_excel('https://www.medicaid.gov/media/174606', skiprows = [0,2,54,55,56,57,58,59])\n",
    "dec_medicaid.head()"
   ]
  },
  {
   "cell_type": "markdown",
   "id": "815bc179",
   "metadata": {},
   "source": [
    "### Step 1.b"
   ]
  },
  {
   "cell_type": "markdown",
   "id": "6c90f627",
   "metadata": {},
   "source": [
    "I then drop the columns of data irrelevant to this analysis. It's a lot, but we'll be adding new columns in from additional datasets."
   ]
  },
  {
   "cell_type": "code",
   "execution_count": 2,
   "id": "09d1b19c",
   "metadata": {},
   "outputs": [
    {
     "data": {
      "text/html": [
       "<div>\n",
       "<style scoped>\n",
       "    .dataframe tbody tr th:only-of-type {\n",
       "        vertical-align: middle;\n",
       "    }\n",
       "\n",
       "    .dataframe tbody tr th {\n",
       "        vertical-align: top;\n",
       "    }\n",
       "\n",
       "    .dataframe thead th {\n",
       "        text-align: right;\n",
       "    }\n",
       "</style>\n",
       "<table border=\"1\" class=\"dataframe\">\n",
       "  <thead>\n",
       "    <tr style=\"text-align: right;\">\n",
       "      <th></th>\n",
       "      <th>State</th>\n",
       "      <th>Total number of beneficiaries due for renewal in the reporting month whose coverage was renewed\\n(Metric 5a)</th>\n",
       "      <th>Total number of beneficiaries due for renewal in the reporting month whose coverage was terminated\\n(Metric 5b + 5c)</th>\n",
       "    </tr>\n",
       "  </thead>\n",
       "  <tbody>\n",
       "    <tr>\n",
       "      <th>0</th>\n",
       "      <td>AK</td>\n",
       "      <td>4710</td>\n",
       "      <td>2271</td>\n",
       "    </tr>\n",
       "    <tr>\n",
       "      <th>1</th>\n",
       "      <td>AL</td>\n",
       "      <td>67036</td>\n",
       "      <td>33465</td>\n",
       "    </tr>\n",
       "    <tr>\n",
       "      <th>2</th>\n",
       "      <td>AR</td>\n",
       "      <td>37454</td>\n",
       "      <td>4599</td>\n",
       "    </tr>\n",
       "    <tr>\n",
       "      <th>3</th>\n",
       "      <td>AZ</td>\n",
       "      <td>175434</td>\n",
       "      <td>20761</td>\n",
       "    </tr>\n",
       "    <tr>\n",
       "      <th>4</th>\n",
       "      <td>CA</td>\n",
       "      <td>899931</td>\n",
       "      <td>108863</td>\n",
       "    </tr>\n",
       "  </tbody>\n",
       "</table>\n",
       "</div>"
      ],
      "text/plain": [
       "  State  \\\n",
       "0    AK   \n",
       "1    AL   \n",
       "2    AR   \n",
       "3    AZ   \n",
       "4    CA   \n",
       "\n",
       "   Total number of beneficiaries due for renewal in the reporting month whose coverage was renewed\\n(Metric 5a)  \\\n",
       "0                                               4710                                                              \n",
       "1                                              67036                                                              \n",
       "2                                              37454                                                              \n",
       "3                                             175434                                                              \n",
       "4                                             899931                                                              \n",
       "\n",
       "   Total number of beneficiaries due for renewal in the reporting month whose coverage was terminated\\n(Metric 5b + 5c)  \n",
       "0                                               2271                                                                     \n",
       "1                                              33465                                                                     \n",
       "2                                               4599                                                                     \n",
       "3                                              20761                                                                     \n",
       "4                                             108863                                                                     "
      ]
     },
     "execution_count": 2,
     "metadata": {},
     "output_type": "execute_result"
    }
   ],
   "source": [
    "dec_medicaid.drop('Total number of Medicaid and CHIP beneficiaries for whom a renewal was initiated in the reporting month\\n(Metric 4)', axis = 1, inplace = True)\n",
    "dec_medicaid.drop('Total number of beneficiaries due for renewal in the reporting month\\n(Metric 5)', axis = 1, inplace = True)\n",
    "dec_medicaid.drop('Total beneficiaries renewed on an ex parte basis (i.e. based on available information)\\n(Metric 5a1)', axis = 1, inplace = True)\n",
    "dec_medicaid.drop('Total beneficiaries renewed based on the return of a renewal form\\n(Metric 5a2)', axis = 1, inplace = True)\n",
    "dec_medicaid.drop('Total beneficiaries determined ineligible for Medicaid and CHIP based on the return of a renewal form\\n(Metric 5b)', axis = 1, inplace = True)\n",
    "dec_medicaid.drop('Total beneficiaries whose coverage was terminated for a procedural or administrative reason\\n(Metric 5c)', axis = 1, inplace = True)\n",
    "dec_medicaid.drop('Total number of beneficiaries due for renewal in the reporting month whose renewal was pending at the end of the month\\n(Metric 5d)', axis = 1, inplace = True)\n",
    "dec_medicaid.drop('Data notes', axis = 1, inplace = True)\n",
    "dec_medicaid.head()"
   ]
  },
  {
   "cell_type": "markdown",
   "id": "be130745",
   "metadata": {},
   "source": [
    "### Step 1.c"
   ]
  },
  {
   "cell_type": "markdown",
   "id": "116ece16",
   "metadata": {},
   "source": [
    "Now I add a new column for month, which will be key to distinguishing the different monthly datasets from each other once they're all merged into one dataframe."
   ]
  },
  {
   "cell_type": "code",
   "execution_count": 3,
   "id": "e55b9b26",
   "metadata": {},
   "outputs": [
    {
     "data": {
      "text/html": [
       "<div>\n",
       "<style scoped>\n",
       "    .dataframe tbody tr th:only-of-type {\n",
       "        vertical-align: middle;\n",
       "    }\n",
       "\n",
       "    .dataframe tbody tr th {\n",
       "        vertical-align: top;\n",
       "    }\n",
       "\n",
       "    .dataframe thead th {\n",
       "        text-align: right;\n",
       "    }\n",
       "</style>\n",
       "<table border=\"1\" class=\"dataframe\">\n",
       "  <thead>\n",
       "    <tr style=\"text-align: right;\">\n",
       "      <th></th>\n",
       "      <th>State</th>\n",
       "      <th>Total number of beneficiaries due for renewal in the reporting month whose coverage was renewed\\n(Metric 5a)</th>\n",
       "      <th>Total number of beneficiaries due for renewal in the reporting month whose coverage was terminated\\n(Metric 5b + 5c)</th>\n",
       "      <th>Month</th>\n",
       "    </tr>\n",
       "  </thead>\n",
       "  <tbody>\n",
       "    <tr>\n",
       "      <th>0</th>\n",
       "      <td>AK</td>\n",
       "      <td>4710</td>\n",
       "      <td>2271</td>\n",
       "      <td>December</td>\n",
       "    </tr>\n",
       "    <tr>\n",
       "      <th>1</th>\n",
       "      <td>AL</td>\n",
       "      <td>67036</td>\n",
       "      <td>33465</td>\n",
       "      <td>December</td>\n",
       "    </tr>\n",
       "    <tr>\n",
       "      <th>2</th>\n",
       "      <td>AR</td>\n",
       "      <td>37454</td>\n",
       "      <td>4599</td>\n",
       "      <td>December</td>\n",
       "    </tr>\n",
       "    <tr>\n",
       "      <th>3</th>\n",
       "      <td>AZ</td>\n",
       "      <td>175434</td>\n",
       "      <td>20761</td>\n",
       "      <td>December</td>\n",
       "    </tr>\n",
       "    <tr>\n",
       "      <th>4</th>\n",
       "      <td>CA</td>\n",
       "      <td>899931</td>\n",
       "      <td>108863</td>\n",
       "      <td>December</td>\n",
       "    </tr>\n",
       "  </tbody>\n",
       "</table>\n",
       "</div>"
      ],
      "text/plain": [
       "  State  \\\n",
       "0    AK   \n",
       "1    AL   \n",
       "2    AR   \n",
       "3    AZ   \n",
       "4    CA   \n",
       "\n",
       "   Total number of beneficiaries due for renewal in the reporting month whose coverage was renewed\\n(Metric 5a)  \\\n",
       "0                                               4710                                                              \n",
       "1                                              67036                                                              \n",
       "2                                              37454                                                              \n",
       "3                                             175434                                                              \n",
       "4                                             899931                                                              \n",
       "\n",
       "   Total number of beneficiaries due for renewal in the reporting month whose coverage was terminated\\n(Metric 5b + 5c)  \\\n",
       "0                                               2271                                                                      \n",
       "1                                              33465                                                                      \n",
       "2                                               4599                                                                      \n",
       "3                                              20761                                                                      \n",
       "4                                             108863                                                                      \n",
       "\n",
       "      Month  \n",
       "0  December  \n",
       "1  December  \n",
       "2  December  \n",
       "3  December  \n",
       "4  December  "
      ]
     },
     "execution_count": 3,
     "metadata": {},
     "output_type": "execute_result"
    }
   ],
   "source": [
    "month = 'December'\n",
    "dec_medicaid['Month'] = month\n",
    "dec_medicaid.head()"
   ]
  },
  {
   "cell_type": "markdown",
   "id": "db82ebee",
   "metadata": {},
   "source": [
    "### Step 1.d"
   ]
  },
  {
   "cell_type": "markdown",
   "id": "7b2d174d",
   "metadata": {},
   "source": [
    "Lastly, the column names are updated to remove formatting issues and be easier to work with."
   ]
  },
  {
   "cell_type": "code",
   "execution_count": 4,
   "id": "486dfe7f",
   "metadata": {},
   "outputs": [
    {
     "data": {
      "text/html": [
       "<div>\n",
       "<style scoped>\n",
       "    .dataframe tbody tr th:only-of-type {\n",
       "        vertical-align: middle;\n",
       "    }\n",
       "\n",
       "    .dataframe tbody tr th {\n",
       "        vertical-align: top;\n",
       "    }\n",
       "\n",
       "    .dataframe thead th {\n",
       "        text-align: right;\n",
       "    }\n",
       "</style>\n",
       "<table border=\"1\" class=\"dataframe\">\n",
       "  <thead>\n",
       "    <tr style=\"text-align: right;\">\n",
       "      <th></th>\n",
       "      <th>State</th>\n",
       "      <th>Medicaid renewed</th>\n",
       "      <th>Medicaid terminated</th>\n",
       "      <th>Month</th>\n",
       "    </tr>\n",
       "  </thead>\n",
       "  <tbody>\n",
       "    <tr>\n",
       "      <th>0</th>\n",
       "      <td>AK</td>\n",
       "      <td>4710</td>\n",
       "      <td>2271</td>\n",
       "      <td>December</td>\n",
       "    </tr>\n",
       "    <tr>\n",
       "      <th>1</th>\n",
       "      <td>AL</td>\n",
       "      <td>67036</td>\n",
       "      <td>33465</td>\n",
       "      <td>December</td>\n",
       "    </tr>\n",
       "    <tr>\n",
       "      <th>2</th>\n",
       "      <td>AR</td>\n",
       "      <td>37454</td>\n",
       "      <td>4599</td>\n",
       "      <td>December</td>\n",
       "    </tr>\n",
       "    <tr>\n",
       "      <th>3</th>\n",
       "      <td>AZ</td>\n",
       "      <td>175434</td>\n",
       "      <td>20761</td>\n",
       "      <td>December</td>\n",
       "    </tr>\n",
       "    <tr>\n",
       "      <th>4</th>\n",
       "      <td>CA</td>\n",
       "      <td>899931</td>\n",
       "      <td>108863</td>\n",
       "      <td>December</td>\n",
       "    </tr>\n",
       "  </tbody>\n",
       "</table>\n",
       "</div>"
      ],
      "text/plain": [
       "  State  Medicaid renewed  Medicaid terminated     Month\n",
       "0    AK              4710                 2271  December\n",
       "1    AL             67036                33465  December\n",
       "2    AR             37454                 4599  December\n",
       "3    AZ            175434                20761  December\n",
       "4    CA            899931               108863  December"
      ]
     },
     "execution_count": 4,
     "metadata": {},
     "output_type": "execute_result"
    }
   ],
   "source": [
    "dec_medicaid.rename(columns = {'Total number of beneficiaries due for renewal in the reporting month whose coverage was renewed\\n(Metric 5a)': 'Medicaid renewed', 'Total number of beneficiaries due for renewal in the reporting month whose coverage was terminated\\n(Metric 5b + 5c)': 'Medicaid terminated'}, inplace = True)\n",
    "dec_medicaid.head()"
   ]
  },
  {
   "cell_type": "markdown",
   "id": "9d06e97e",
   "metadata": {},
   "source": [
    "I now repeat steps 1.a through 1.e for each month of data."
   ]
  },
  {
   "cell_type": "markdown",
   "id": "cf43fd95",
   "metadata": {},
   "source": [
    "### Step 2.a November"
   ]
  },
  {
   "cell_type": "code",
   "execution_count": 5,
   "id": "8bd8a84c",
   "metadata": {},
   "outputs": [
    {
     "data": {
      "text/html": [
       "<div>\n",
       "<style scoped>\n",
       "    .dataframe tbody tr th:only-of-type {\n",
       "        vertical-align: middle;\n",
       "    }\n",
       "\n",
       "    .dataframe tbody tr th {\n",
       "        vertical-align: top;\n",
       "    }\n",
       "\n",
       "    .dataframe thead th {\n",
       "        text-align: right;\n",
       "    }\n",
       "</style>\n",
       "<table border=\"1\" class=\"dataframe\">\n",
       "  <thead>\n",
       "    <tr style=\"text-align: right;\">\n",
       "      <th></th>\n",
       "      <th>State</th>\n",
       "      <th>Medicaid renewed</th>\n",
       "      <th>Medicaid terminated</th>\n",
       "      <th>Month</th>\n",
       "    </tr>\n",
       "  </thead>\n",
       "  <tbody>\n",
       "    <tr>\n",
       "      <th>0</th>\n",
       "      <td>AK</td>\n",
       "      <td>3971</td>\n",
       "      <td>1847</td>\n",
       "      <td>November</td>\n",
       "    </tr>\n",
       "    <tr>\n",
       "      <th>1</th>\n",
       "      <td>AL</td>\n",
       "      <td>61893</td>\n",
       "      <td>29765</td>\n",
       "      <td>November</td>\n",
       "    </tr>\n",
       "    <tr>\n",
       "      <th>2</th>\n",
       "      <td>AR</td>\n",
       "      <td>27703</td>\n",
       "      <td>3800</td>\n",
       "      <td>November</td>\n",
       "    </tr>\n",
       "    <tr>\n",
       "      <th>3</th>\n",
       "      <td>AZ</td>\n",
       "      <td>134923</td>\n",
       "      <td>19442</td>\n",
       "      <td>November</td>\n",
       "    </tr>\n",
       "    <tr>\n",
       "      <th>4</th>\n",
       "      <td>CA</td>\n",
       "      <td>493960</td>\n",
       "      <td>205710</td>\n",
       "      <td>November</td>\n",
       "    </tr>\n",
       "  </tbody>\n",
       "</table>\n",
       "</div>"
      ],
      "text/plain": [
       "  State  Medicaid renewed  Medicaid terminated     Month\n",
       "0    AK              3971                 1847  November\n",
       "1    AL             61893                29765  November\n",
       "2    AR             27703                 3800  November\n",
       "3    AZ            134923                19442  November\n",
       "4    CA            493960               205710  November"
      ]
     },
     "execution_count": 5,
     "metadata": {},
     "output_type": "execute_result"
    }
   ],
   "source": [
    "nov_medicaid = pd.read_excel('https://www.medicaid.gov/media/172516', skiprows = [0,2,54,55,56,57,58,59])\n",
    "\n",
    "nov_medicaid.drop('Total number of Medicaid and CHIP beneficiaries for whom a renewal was initiated in the reporting month\\n(Metric 4)', axis = 1, inplace = True)\n",
    "nov_medicaid.drop('Total number of beneficiaries due for renewal in the reporting month\\n(Metric 5)', axis = 1, inplace = True)\n",
    "nov_medicaid.drop('Total beneficiaries renewed on an ex parte basis (i.e. based on available information)\\n(Metric 5a1)', axis = 1, inplace = True)\n",
    "nov_medicaid.drop('Total beneficiaries renewed based on the return of a renewal form\\n(Metric 5a2)', axis = 1, inplace = True)\n",
    "nov_medicaid.drop('Total beneficiaries determined ineligible for Medicaid and CHIP based on the return of a renewal form\\n(Metric 5b)', axis = 1, inplace = True)\n",
    "nov_medicaid.drop('Total beneficiaries whose coverage was terminated for a procedural or administrative reason\\n(Metric 5c)', axis = 1, inplace = True)\n",
    "nov_medicaid.drop('Total number of beneficiaries due for renewal in the reporting month whose renewal was pending at the end of the month\\n(Metric 5d)', axis = 1, inplace = True)\n",
    "nov_medicaid.drop('Data notes', axis = 1, inplace = True)\n",
    "\n",
    "month = 'November'\n",
    "nov_medicaid['Month'] = month\n",
    "\n",
    "nov_medicaid.rename(columns = {'Total number of beneficiaries due for renewal in the reporting month whose coverage was renewed\\n(Metric 5a)': 'Medicaid renewed', 'Total number of beneficiaries due for renewal in the reporting month whose coverage was terminated\\n(Metric 5b + 5c)': 'Medicaid terminated'}, inplace = True)\n",
    "\n",
    "nov_medicaid.head()"
   ]
  },
  {
   "cell_type": "markdown",
   "id": "0d63860f",
   "metadata": {},
   "source": [
    "### Step 2.b October"
   ]
  },
  {
   "cell_type": "code",
   "execution_count": 6,
   "id": "02ae4988",
   "metadata": {},
   "outputs": [
    {
     "data": {
      "text/html": [
       "<div>\n",
       "<style scoped>\n",
       "    .dataframe tbody tr th:only-of-type {\n",
       "        vertical-align: middle;\n",
       "    }\n",
       "\n",
       "    .dataframe tbody tr th {\n",
       "        vertical-align: top;\n",
       "    }\n",
       "\n",
       "    .dataframe thead th {\n",
       "        text-align: right;\n",
       "    }\n",
       "</style>\n",
       "<table border=\"1\" class=\"dataframe\">\n",
       "  <thead>\n",
       "    <tr style=\"text-align: right;\">\n",
       "      <th></th>\n",
       "      <th>State</th>\n",
       "      <th>Medicaid renewed</th>\n",
       "      <th>Medicaid terminated</th>\n",
       "      <th>Month</th>\n",
       "    </tr>\n",
       "  </thead>\n",
       "  <tbody>\n",
       "    <tr>\n",
       "      <th>0</th>\n",
       "      <td>AK</td>\n",
       "      <td>4272</td>\n",
       "      <td>1984</td>\n",
       "      <td>October</td>\n",
       "    </tr>\n",
       "    <tr>\n",
       "      <th>1</th>\n",
       "      <td>AL</td>\n",
       "      <td>67958</td>\n",
       "      <td>32823</td>\n",
       "      <td>October</td>\n",
       "    </tr>\n",
       "    <tr>\n",
       "      <th>2</th>\n",
       "      <td>AR</td>\n",
       "      <td>30414</td>\n",
       "      <td>5734</td>\n",
       "      <td>October</td>\n",
       "    </tr>\n",
       "    <tr>\n",
       "      <th>3</th>\n",
       "      <td>AZ</td>\n",
       "      <td>168065</td>\n",
       "      <td>28706</td>\n",
       "      <td>October</td>\n",
       "    </tr>\n",
       "    <tr>\n",
       "      <th>4</th>\n",
       "      <td>CA</td>\n",
       "      <td>512198</td>\n",
       "      <td>198537</td>\n",
       "      <td>October</td>\n",
       "    </tr>\n",
       "  </tbody>\n",
       "</table>\n",
       "</div>"
      ],
      "text/plain": [
       "  State  Medicaid renewed  Medicaid terminated    Month\n",
       "0    AK              4272                 1984  October\n",
       "1    AL             67958                32823  October\n",
       "2    AR             30414                 5734  October\n",
       "3    AZ            168065                28706  October\n",
       "4    CA            512198               198537  October"
      ]
     },
     "execution_count": 6,
     "metadata": {},
     "output_type": "execute_result"
    }
   ],
   "source": [
    "oct_medicaid = pd.read_excel('https://www.medicaid.gov/media/170936', skiprows = [0,2,54,55,56,57,58,59])\n",
    "\n",
    "oct_medicaid.drop('Total number of Medicaid and CHIP beneficiaries for whom a renewal was initiated in the reporting month\\n(Metric 4)', axis = 1, inplace = True)\n",
    "oct_medicaid.drop('Total number of beneficiaries due for renewal in the reporting month\\n(Metric 5)', axis = 1, inplace = True)\n",
    "oct_medicaid.drop('Total beneficiaries renewed on an ex parte basis (i.e. based on available information)\\n(Metric 5a1)', axis = 1, inplace = True)\n",
    "oct_medicaid.drop('Total beneficiaries renewed based on the return of a renewal form\\n(Metric 5a2)', axis = 1, inplace = True)\n",
    "oct_medicaid.drop('Total beneficiaries determined ineligible for Medicaid and CHIP based on the return of a renewal form\\n(Metric 5b)', axis = 1, inplace = True)\n",
    "oct_medicaid.drop('Total beneficiaries whose coverage was terminated for a procedural or administrative reason\\n(Metric 5c)', axis = 1, inplace = True)\n",
    "oct_medicaid.drop('Total number of beneficiaries due for renewal in the reporting month whose renewal was pending at the end of the month\\n(Metric 5d)', axis = 1, inplace = True)\n",
    "oct_medicaid.drop('Data notes', axis = 1, inplace = True)\n",
    "\n",
    "month = 'October'\n",
    "oct_medicaid['Month'] = month\n",
    "\n",
    "oct_medicaid.rename(columns = {'Total number of beneficiaries due for renewal in the reporting month whose coverage was renewed\\n(Metric 5a)': 'Medicaid renewed', 'Total number of beneficiaries due for renewal in the reporting month whose coverage was terminated\\n(Metric 5b + 5c)': 'Medicaid terminated'}, inplace = True)\n",
    "\n",
    "oct_medicaid.head()"
   ]
  },
  {
   "cell_type": "markdown",
   "id": "81a94d95",
   "metadata": {},
   "source": [
    "### Step 2.c September"
   ]
  },
  {
   "cell_type": "code",
   "execution_count": 7,
   "id": "5573e824",
   "metadata": {},
   "outputs": [
    {
     "data": {
      "text/html": [
       "<div>\n",
       "<style scoped>\n",
       "    .dataframe tbody tr th:only-of-type {\n",
       "        vertical-align: middle;\n",
       "    }\n",
       "\n",
       "    .dataframe tbody tr th {\n",
       "        vertical-align: top;\n",
       "    }\n",
       "\n",
       "    .dataframe thead th {\n",
       "        text-align: right;\n",
       "    }\n",
       "</style>\n",
       "<table border=\"1\" class=\"dataframe\">\n",
       "  <thead>\n",
       "    <tr style=\"text-align: right;\">\n",
       "      <th></th>\n",
       "      <th>State</th>\n",
       "      <th>Medicaid renewed</th>\n",
       "      <th>Medicaid terminated</th>\n",
       "      <th>Month</th>\n",
       "    </tr>\n",
       "  </thead>\n",
       "  <tbody>\n",
       "    <tr>\n",
       "      <th>0</th>\n",
       "      <td>AK</td>\n",
       "      <td>4111</td>\n",
       "      <td>2171</td>\n",
       "      <td>September</td>\n",
       "    </tr>\n",
       "    <tr>\n",
       "      <th>1</th>\n",
       "      <td>AL</td>\n",
       "      <td>69535</td>\n",
       "      <td>34876</td>\n",
       "      <td>September</td>\n",
       "    </tr>\n",
       "    <tr>\n",
       "      <th>2</th>\n",
       "      <td>AR</td>\n",
       "      <td>45536</td>\n",
       "      <td>29583</td>\n",
       "      <td>September</td>\n",
       "    </tr>\n",
       "    <tr>\n",
       "      <th>3</th>\n",
       "      <td>AZ</td>\n",
       "      <td>172756</td>\n",
       "      <td>39667</td>\n",
       "      <td>September</td>\n",
       "    </tr>\n",
       "    <tr>\n",
       "      <th>4</th>\n",
       "      <td>CA</td>\n",
       "      <td>506846</td>\n",
       "      <td>219809</td>\n",
       "      <td>September</td>\n",
       "    </tr>\n",
       "  </tbody>\n",
       "</table>\n",
       "</div>"
      ],
      "text/plain": [
       "  State  Medicaid renewed  Medicaid terminated      Month\n",
       "0    AK              4111                 2171  September\n",
       "1    AL             69535                34876  September\n",
       "2    AR             45536                29583  September\n",
       "3    AZ            172756                39667  September\n",
       "4    CA            506846               219809  September"
      ]
     },
     "execution_count": 7,
     "metadata": {},
     "output_type": "execute_result"
    }
   ],
   "source": [
    "sep_medicaid = pd.read_excel('https://www.medicaid.gov/media/168031', skiprows = [0,2,54,55,56,57,58,59])\n",
    "\n",
    "sep_medicaid.drop('Total number of Medicaid and CHIP beneficiaries for whom a renewal was initiated in the reporting month\\n(Metric 4)', axis = 1, inplace = True)\n",
    "sep_medicaid.drop('Total number of beneficiaries due for renewal in the reporting month\\n(Metric 5)', axis = 1, inplace = True)\n",
    "sep_medicaid.drop('Total beneficiaries renewed on an ex parte basis (i.e. based on available information)\\n(Metric 5a1)', axis = 1, inplace = True)\n",
    "sep_medicaid.drop('Total beneficiaries renewed based on the return of a renewal form\\n(Metric 5a2)', axis = 1, inplace = True)\n",
    "sep_medicaid.drop('Total beneficiaries determined ineligible for Medicaid and CHIP based on the return of a renewal form\\n(Metric 5b)', axis = 1, inplace = True)\n",
    "sep_medicaid.drop('Total beneficiaries whose coverage was terminated for a procedural or administrative reason\\n(Metric 5c)', axis = 1, inplace = True)\n",
    "sep_medicaid.drop('Total number of beneficiaries due for renewal in the reporting month whose renewal was pending at the end of the month\\n(Metric 5d)', axis = 1, inplace = True)\n",
    "sep_medicaid.drop('Data notes', axis = 1, inplace = True)\n",
    "\n",
    "month = 'September'\n",
    "sep_medicaid['Month'] = month\n",
    "\n",
    "sep_medicaid.rename(columns = {'Total number of beneficiaries due for renewal in the reporting month whose coverage was renewed\\n(Metric 5a)':'Medicaid renewed', 'Total number of beneficiaries due for renewal in the reporting month whose coverage was terminated\\n(Metric 5b + 5c)': 'Medicaid terminated'}, inplace = True)\n",
    "\n",
    "sep_medicaid.head()"
   ]
  },
  {
   "cell_type": "markdown",
   "id": "94c48616",
   "metadata": {},
   "source": [
    "### Step 2.d August"
   ]
  },
  {
   "cell_type": "code",
   "execution_count": 8,
   "id": "28c1629d",
   "metadata": {},
   "outputs": [
    {
     "data": {
      "text/html": [
       "<div>\n",
       "<style scoped>\n",
       "    .dataframe tbody tr th:only-of-type {\n",
       "        vertical-align: middle;\n",
       "    }\n",
       "\n",
       "    .dataframe tbody tr th {\n",
       "        vertical-align: top;\n",
       "    }\n",
       "\n",
       "    .dataframe thead th {\n",
       "        text-align: right;\n",
       "    }\n",
       "</style>\n",
       "<table border=\"1\" class=\"dataframe\">\n",
       "  <thead>\n",
       "    <tr style=\"text-align: right;\">\n",
       "      <th></th>\n",
       "      <th>State</th>\n",
       "      <th>Medicaid renewed</th>\n",
       "      <th>Medicaid terminated</th>\n",
       "      <th>Month</th>\n",
       "    </tr>\n",
       "  </thead>\n",
       "  <tbody>\n",
       "    <tr>\n",
       "      <th>0</th>\n",
       "      <td>AK</td>\n",
       "      <td>6516</td>\n",
       "      <td>9919</td>\n",
       "      <td>August</td>\n",
       "    </tr>\n",
       "    <tr>\n",
       "      <th>1</th>\n",
       "      <td>AL</td>\n",
       "      <td>77032</td>\n",
       "      <td>37791</td>\n",
       "      <td>August</td>\n",
       "    </tr>\n",
       "    <tr>\n",
       "      <th>2</th>\n",
       "      <td>AR</td>\n",
       "      <td>50662</td>\n",
       "      <td>31778</td>\n",
       "      <td>August</td>\n",
       "    </tr>\n",
       "    <tr>\n",
       "      <th>3</th>\n",
       "      <td>AZ</td>\n",
       "      <td>178491</td>\n",
       "      <td>37812</td>\n",
       "      <td>August</td>\n",
       "    </tr>\n",
       "    <tr>\n",
       "      <th>4</th>\n",
       "      <td>CA</td>\n",
       "      <td>518152</td>\n",
       "      <td>209487</td>\n",
       "      <td>August</td>\n",
       "    </tr>\n",
       "  </tbody>\n",
       "</table>\n",
       "</div>"
      ],
      "text/plain": [
       "  State  Medicaid renewed  Medicaid terminated   Month\n",
       "0    AK              6516                 9919  August\n",
       "1    AL             77032                37791  August\n",
       "2    AR             50662                31778  August\n",
       "3    AZ            178491                37812  August\n",
       "4    CA            518152               209487  August"
      ]
     },
     "execution_count": 8,
     "metadata": {},
     "output_type": "execute_result"
    }
   ],
   "source": [
    "aug_medicaid = pd.read_excel('https://www.medicaid.gov/media/166671', skiprows = [0,2,54,55,56,57,58,59,60])\n",
    "\n",
    "aug_medicaid.drop('Total number of Medicaid and CHIP beneficiaries for whom a renewal was initiated in the reporting month\\n(Metric 4)', axis = 1, inplace = True)\n",
    "aug_medicaid.drop('Total number of beneficiaries due for renewal in the reporting month\\n(Metric 5)', axis = 1, inplace = True)\n",
    "aug_medicaid.drop('Total beneficiaries renewed on an ex parte basis (i.e. based on available information)\\n(Metric 5a1)', axis = 1, inplace = True)\n",
    "aug_medicaid.drop('Total beneficiaries renewed based on the return of a renewal form\\n(Metric 5a2)', axis = 1, inplace = True)\n",
    "aug_medicaid.drop('Total beneficiaries determined ineligible for Medicaid and CHIP based on the return of a renewal form\\n(Metric 5b)', axis = 1, inplace = True)\n",
    "aug_medicaid.drop('Total beneficiaries whose coverage was terminated for a procedural or administrative reason\\n(Metric 5c)', axis = 1, inplace = True)\n",
    "aug_medicaid.drop('Total number of beneficiaries due for renewal in the reporting month whose renewal was pending at the end of the month\\n(Metric 5d)', axis = 1, inplace = True)\n",
    "aug_medicaid.drop('Data notes', axis = 1, inplace = True)\n",
    "\n",
    "month = 'August'\n",
    "aug_medicaid['Month'] = month\n",
    "\n",
    "aug_medicaid.rename(columns = {'Total number of beneficiaries due for renewal in the reporting month whose coverage was renewed\\n(Metric 5a)': 'Medicaid renewed', 'Total number of beneficiaries due for renewal in the reporting month whose coverage was terminated\\n(Metric 5b + 5c)': 'Medicaid terminated'}, inplace = True)\n",
    "\n",
    "aug_medicaid.head()"
   ]
  },
  {
   "cell_type": "markdown",
   "id": "e07bdc1c",
   "metadata": {},
   "source": [
    "### Step 2.e July"
   ]
  },
  {
   "cell_type": "code",
   "execution_count": 9,
   "id": "e28a032f",
   "metadata": {},
   "outputs": [
    {
     "data": {
      "text/html": [
       "<div>\n",
       "<style scoped>\n",
       "    .dataframe tbody tr th:only-of-type {\n",
       "        vertical-align: middle;\n",
       "    }\n",
       "\n",
       "    .dataframe tbody tr th {\n",
       "        vertical-align: top;\n",
       "    }\n",
       "\n",
       "    .dataframe thead th {\n",
       "        text-align: right;\n",
       "    }\n",
       "</style>\n",
       "<table border=\"1\" class=\"dataframe\">\n",
       "  <thead>\n",
       "    <tr style=\"text-align: right;\">\n",
       "      <th></th>\n",
       "      <th>State</th>\n",
       "      <th>Medicaid renewed</th>\n",
       "      <th>Medicaid terminated</th>\n",
       "      <th>Month</th>\n",
       "    </tr>\n",
       "  </thead>\n",
       "  <tbody>\n",
       "    <tr>\n",
       "      <th>0</th>\n",
       "      <td>AK</td>\n",
       "      <td>4893</td>\n",
       "      <td>7207</td>\n",
       "      <td>July</td>\n",
       "    </tr>\n",
       "    <tr>\n",
       "      <th>1</th>\n",
       "      <td>AL</td>\n",
       "      <td>83661</td>\n",
       "      <td>44832</td>\n",
       "      <td>July</td>\n",
       "    </tr>\n",
       "    <tr>\n",
       "      <th>2</th>\n",
       "      <td>AR</td>\n",
       "      <td>50609</td>\n",
       "      <td>61116</td>\n",
       "      <td>July</td>\n",
       "    </tr>\n",
       "    <tr>\n",
       "      <th>3</th>\n",
       "      <td>AZ</td>\n",
       "      <td>165052</td>\n",
       "      <td>50056</td>\n",
       "      <td>July</td>\n",
       "    </tr>\n",
       "    <tr>\n",
       "      <th>4</th>\n",
       "      <td>CA</td>\n",
       "      <td>467194</td>\n",
       "      <td>77005</td>\n",
       "      <td>July</td>\n",
       "    </tr>\n",
       "  </tbody>\n",
       "</table>\n",
       "</div>"
      ],
      "text/plain": [
       "  State Medicaid renewed Medicaid terminated Month\n",
       "0    AK             4893                7207  July\n",
       "1    AL            83661               44832  July\n",
       "2    AR            50609               61116  July\n",
       "3    AZ           165052               50056  July\n",
       "4    CA           467194               77005  July"
      ]
     },
     "execution_count": 9,
     "metadata": {},
     "output_type": "execute_result"
    }
   ],
   "source": [
    "jul_medicaid = pd.read_excel('https://www.medicaid.gov/media/164936', skiprows = [0,2,54,55,56,57,58,59])\n",
    "\n",
    "jul_medicaid.drop('Total number of Medicaid and CHIP beneficiaries for whom a renewal was initiated in the reporting month\\n(Metric 4)', axis = 1, inplace = True)\n",
    "jul_medicaid.drop('Total number of beneficiaries due for renewal in the reporting month\\n(Metric 5)', axis = 1, inplace = True)\n",
    "jul_medicaid.drop('Total beneficiaries renewed on an ex parte basis (i.e. based on available information)\\n(Metric 5a1)', axis = 1, inplace = True)\n",
    "jul_medicaid.drop('Total beneficiaries renewed based on the return of a renewal form\\n(Metric 5a2)', axis = 1, inplace = True)\n",
    "jul_medicaid.drop('Total beneficiaries determined ineligible for Medicaid and CHIP based on the return of a renewal form\\n(Metric 5b)', axis = 1, inplace = True)\n",
    "jul_medicaid.drop('Total beneficiaries whose coverage was terminated for a procedural or administrative reason\\n(Metric 5c)', axis = 1, inplace = True)\n",
    "jul_medicaid.drop('Total number of beneficiaries due for renewal in the reporting month whose renewal was pending at the end of the month\\n(Metric 5d)', axis = 1, inplace = True)\n",
    "jul_medicaid.drop('Data notes', axis = 1, inplace = True)\n",
    "\n",
    "month = 'July'\n",
    "jul_medicaid['Month'] = month\n",
    "\n",
    "jul_medicaid.rename(columns = {'Total number of beneficiaries due for renewal in the reporting month whose coverage was renewed\\n(Metric 5a)': 'Medicaid renewed', 'Total number of beneficiaries due for renewal in the reporting month whose coverage was terminated\\n(Metric 5b + 5c)': 'Medicaid terminated'}, inplace = True)\n",
    "\n",
    "jul_medicaid.head()"
   ]
  },
  {
   "cell_type": "markdown",
   "id": "edb20ccf",
   "metadata": {},
   "source": [
    "### Step 2.f June"
   ]
  },
  {
   "cell_type": "code",
   "execution_count": 10,
   "id": "2cabfc60",
   "metadata": {},
   "outputs": [
    {
     "data": {
      "text/html": [
       "<div>\n",
       "<style scoped>\n",
       "    .dataframe tbody tr th:only-of-type {\n",
       "        vertical-align: middle;\n",
       "    }\n",
       "\n",
       "    .dataframe tbody tr th {\n",
       "        vertical-align: top;\n",
       "    }\n",
       "\n",
       "    .dataframe thead th {\n",
       "        text-align: right;\n",
       "    }\n",
       "</style>\n",
       "<table border=\"1\" class=\"dataframe\">\n",
       "  <thead>\n",
       "    <tr style=\"text-align: right;\">\n",
       "      <th></th>\n",
       "      <th>State</th>\n",
       "      <th>Medicaid renewed</th>\n",
       "      <th>Medicaid terminated</th>\n",
       "      <th>Month</th>\n",
       "    </tr>\n",
       "  </thead>\n",
       "  <tbody>\n",
       "    <tr>\n",
       "      <th>0</th>\n",
       "      <td>AK</td>\n",
       "      <td>2659</td>\n",
       "      <td>3380</td>\n",
       "      <td>June</td>\n",
       "    </tr>\n",
       "    <tr>\n",
       "      <th>1</th>\n",
       "      <td>AL</td>\n",
       "      <td>88306</td>\n",
       "      <td>36359</td>\n",
       "      <td>June</td>\n",
       "    </tr>\n",
       "    <tr>\n",
       "      <th>2</th>\n",
       "      <td>AR</td>\n",
       "      <td>50366</td>\n",
       "      <td>60589</td>\n",
       "      <td>June</td>\n",
       "    </tr>\n",
       "    <tr>\n",
       "      <th>3</th>\n",
       "      <td>AZ</td>\n",
       "      <td>154324</td>\n",
       "      <td>66657</td>\n",
       "      <td>June</td>\n",
       "    </tr>\n",
       "    <tr>\n",
       "      <th>4</th>\n",
       "      <td>CA</td>\n",
       "      <td>499447</td>\n",
       "      <td>225417</td>\n",
       "      <td>June</td>\n",
       "    </tr>\n",
       "  </tbody>\n",
       "</table>\n",
       "</div>"
      ],
      "text/plain": [
       "  State Medicaid renewed Medicaid terminated Month\n",
       "0    AK             2659                3380  June\n",
       "1    AL            88306               36359  June\n",
       "2    AR            50366               60589  June\n",
       "3    AZ           154324               66657  June\n",
       "4    CA           499447              225417  June"
      ]
     },
     "execution_count": 10,
     "metadata": {},
     "output_type": "execute_result"
    }
   ],
   "source": [
    "jun_medicaid = pd.read_excel('https://www.medicaid.gov/media/163736', skiprows = [0,2,54,55,56,57,58,59])\n",
    "\n",
    "jun_medicaid.drop('Total number of Medicaid and \\nCHIP beneficiaries for whom a \\nrenewal was initiated in the \\nreporting month\\n(Metric 4)', axis = 1, inplace = True)\n",
    "jun_medicaid.drop('Total number of beneficiaries \\ndue for renewal in the reporting \\nmonth\\n(Metric 5)', axis = 1, inplace = True)\n",
    "jun_medicaid.drop('Total beneficiaries renewed on \\nan ex parte basis (i.e. based on \\navailable information)\\n(Metric 5a1)', axis = 1, inplace = True)\n",
    "jun_medicaid.drop('Total beneficiaries renewed \\nbased on the return of a \\nrenewal form\\n(Metric 5a2)', axis = 1, inplace = True)\n",
    "jun_medicaid.drop('Total beneficiaries determined \\nineligible for Medicaid and CHIP \\nbased on the return of a \\nrenewal form\\n(Metric 5b)', axis = 1, inplace = True)\n",
    "jun_medicaid.drop('Total beneficiaries whose \\ncoverage was terminated for a \\nprocedural or administrative \\nreason\\n(Metric 5c)', axis = 1, inplace = True)\n",
    "jun_medicaid.drop('Total number of beneficiaries \\ndue for renewal in the reporting \\nmonth whose renewal was \\npending at the end of the month\\n(Metric 5d)', axis = 1, inplace = True)\n",
    "jun_medicaid.drop('Data notes', axis = 1, inplace = True)\n",
    "\n",
    "month = pd.Series([])\n",
    "jun_medicaid['Month'] = 'June'\n",
    "\n",
    "jun_medicaid.rename(columns = {'Total number of beneficiaries \\ndue for renewal in the reporting \\nmonth whose coverage was \\nrenewed\\n(Metric 5a)': 'Medicaid renewed', 'Total number of beneficiaries \\ndue for renewal in the reporting \\nmonth whose coverage was \\nterminated\\n(Metric 5b + 5c)': 'Medicaid terminated'}, inplace = True)\n",
    "\n",
    "jun_medicaid.head()"
   ]
  },
  {
   "cell_type": "markdown",
   "id": "72dd3539",
   "metadata": {},
   "source": [
    "### Step 2.g May"
   ]
  },
  {
   "cell_type": "markdown",
   "id": "a99ed8ad",
   "metadata": {},
   "source": [
    "Similar to the June dataset, May contains column formatting unique from newer datasets which require standardization. Unlike June, the May dataset includes some hidden characters in its column names, which is why column index positions are utilized instead of column names in the drop function."
   ]
  },
  {
   "cell_type": "code",
   "execution_count": 11,
   "id": "7a1ac8f4",
   "metadata": {},
   "outputs": [
    {
     "data": {
      "text/html": [
       "<div>\n",
       "<style scoped>\n",
       "    .dataframe tbody tr th:only-of-type {\n",
       "        vertical-align: middle;\n",
       "    }\n",
       "\n",
       "    .dataframe tbody tr th {\n",
       "        vertical-align: top;\n",
       "    }\n",
       "\n",
       "    .dataframe thead th {\n",
       "        text-align: right;\n",
       "    }\n",
       "</style>\n",
       "<table border=\"1\" class=\"dataframe\">\n",
       "  <thead>\n",
       "    <tr style=\"text-align: right;\">\n",
       "      <th></th>\n",
       "      <th>State</th>\n",
       "      <th>Medicaid renewed</th>\n",
       "      <th>Medicaid terminated</th>\n",
       "      <th>Month</th>\n",
       "    </tr>\n",
       "  </thead>\n",
       "  <tbody>\n",
       "    <tr>\n",
       "      <th>0</th>\n",
       "      <td>AK</td>\n",
       "      <td>2659</td>\n",
       "      <td>3380</td>\n",
       "      <td>May</td>\n",
       "    </tr>\n",
       "    <tr>\n",
       "      <th>1</th>\n",
       "      <td>AL</td>\n",
       "      <td>88306</td>\n",
       "      <td>36359</td>\n",
       "      <td>May</td>\n",
       "    </tr>\n",
       "    <tr>\n",
       "      <th>2</th>\n",
       "      <td>AR</td>\n",
       "      <td>50366</td>\n",
       "      <td>60589</td>\n",
       "      <td>May</td>\n",
       "    </tr>\n",
       "    <tr>\n",
       "      <th>3</th>\n",
       "      <td>AZ</td>\n",
       "      <td>154324</td>\n",
       "      <td>66657</td>\n",
       "      <td>May</td>\n",
       "    </tr>\n",
       "    <tr>\n",
       "      <th>4</th>\n",
       "      <td>CA</td>\n",
       "      <td>499447</td>\n",
       "      <td>225417</td>\n",
       "      <td>May</td>\n",
       "    </tr>\n",
       "  </tbody>\n",
       "</table>\n",
       "</div>"
      ],
      "text/plain": [
       "  State Medicaid renewed Medicaid terminated Month\n",
       "0    AK             2659                3380   May\n",
       "1    AL            88306               36359   May\n",
       "2    AR            50366               60589   May\n",
       "3    AZ           154324               66657   May\n",
       "4    CA           499447              225417   May"
      ]
     },
     "execution_count": 11,
     "metadata": {},
     "output_type": "execute_result"
    }
   ],
   "source": [
    "may_medicaid = pd.read_excel('https://www.medicaid.gov/media/163736', skiprows = [0,2,54,55,56,57,58,59])\n",
    "\n",
    "may_medicaid.drop(list(may_medicaid.columns[1:3])+list(may_medicaid.columns[4:6])+list(may_medicaid.columns[7:11]), axis = 1, inplace = True)\n",
    "\n",
    "month = pd.Series([])\n",
    "may_medicaid['Month'] = 'May'\n",
    "\n",
    "may_medicaid.rename(columns = {'Total number of beneficiaries \\ndue for renewal in the reporting \\nmonth whose coverage was \\nrenewed\\n(Metric 5a)': 'Medicaid renewed', 'Total number of beneficiaries \\ndue for renewal in the reporting \\nmonth whose coverage was \\nterminated\\n(Metric 5b + 5c)': 'Medicaid terminated'}, inplace = True)\n",
    "\n",
    "may_medicaid.head()"
   ]
  },
  {
   "cell_type": "markdown",
   "id": "f59f7336",
   "metadata": {},
   "source": [
    "### Step 2.h April"
   ]
  },
  {
   "cell_type": "code",
   "execution_count": 12,
   "id": "9eed02b9",
   "metadata": {},
   "outputs": [
    {
     "data": {
      "text/html": [
       "<div>\n",
       "<style scoped>\n",
       "    .dataframe tbody tr th:only-of-type {\n",
       "        vertical-align: middle;\n",
       "    }\n",
       "\n",
       "    .dataframe tbody tr th {\n",
       "        vertical-align: top;\n",
       "    }\n",
       "\n",
       "    .dataframe thead th {\n",
       "        text-align: right;\n",
       "    }\n",
       "</style>\n",
       "<table border=\"1\" class=\"dataframe\">\n",
       "  <thead>\n",
       "    <tr style=\"text-align: right;\">\n",
       "      <th></th>\n",
       "      <th>State</th>\n",
       "      <th>Medicaid renewed</th>\n",
       "      <th>Medicaid terminated</th>\n",
       "      <th>Month</th>\n",
       "    </tr>\n",
       "  </thead>\n",
       "  <tbody>\n",
       "    <tr>\n",
       "      <th>0</th>\n",
       "      <td>AK</td>\n",
       "      <td>-</td>\n",
       "      <td>-</td>\n",
       "      <td>April</td>\n",
       "    </tr>\n",
       "    <tr>\n",
       "      <th>1</th>\n",
       "      <td>AL</td>\n",
       "      <td>-</td>\n",
       "      <td>-</td>\n",
       "      <td>April</td>\n",
       "    </tr>\n",
       "    <tr>\n",
       "      <th>2</th>\n",
       "      <td>AR</td>\n",
       "      <td>61236</td>\n",
       "      <td>62711</td>\n",
       "      <td>April</td>\n",
       "    </tr>\n",
       "    <tr>\n",
       "      <th>3</th>\n",
       "      <td>AZ</td>\n",
       "      <td>162693</td>\n",
       "      <td>19635</td>\n",
       "      <td>April</td>\n",
       "    </tr>\n",
       "    <tr>\n",
       "      <th>4</th>\n",
       "      <td>CA</td>\n",
       "      <td>-</td>\n",
       "      <td>-</td>\n",
       "      <td>April</td>\n",
       "    </tr>\n",
       "  </tbody>\n",
       "</table>\n",
       "</div>"
      ],
      "text/plain": [
       "  State Medicaid renewed Medicaid terminated  Month\n",
       "0    AK                -                   -  April\n",
       "1    AL                -                   -  April\n",
       "2    AR            61236               62711  April\n",
       "3    AZ           162693               19635  April\n",
       "4    CA                -                   -  April"
      ]
     },
     "execution_count": 12,
     "metadata": {},
     "output_type": "execute_result"
    }
   ],
   "source": [
    "apr_medicaid = pd.read_excel('https://www.medicaid.gov/media/160296', skiprows = [0,1,3,55,56,57,58,59,60])\n",
    "\n",
    "apr_medicaid.drop(list(apr_medicaid.columns[1:3])+list(apr_medicaid.columns[4:6])+list(apr_medicaid.columns[7:11]), axis = 1, inplace = True)\n",
    "\n",
    "month = pd.Series([])\n",
    "apr_medicaid['Month'] = 'April'\n",
    "\n",
    "apr_medicaid.rename(columns = {'Total number of beneficiaries due for renewal in the reporting month whose coverage was renewed \\n(Metric 5a)': 'Medicaid renewed', 'Total number of beneficiaries due for renewal in the reporting month whose coverage was terminated\\n(Metric 5b + 5c)': 'Medicaid terminated'}, inplace = True)\n",
    "\n",
    "apr_medicaid.head()                            "
   ]
  },
  {
   "cell_type": "markdown",
   "id": "c6f54a9b",
   "metadata": {},
   "source": [
    "### Step 2.i March"
   ]
  },
  {
   "cell_type": "markdown",
   "id": "8e375811",
   "metadata": {},
   "source": [
    "The March dataset requires one additional step: to specify which woorksheet within the excel file we wish to assing to the dataframe. This is because March and April's datasets were combined within a single excel file."
   ]
  },
  {
   "cell_type": "code",
   "execution_count": 13,
   "id": "d4d3075b",
   "metadata": {},
   "outputs": [
    {
     "data": {
      "text/html": [
       "<div>\n",
       "<style scoped>\n",
       "    .dataframe tbody tr th:only-of-type {\n",
       "        vertical-align: middle;\n",
       "    }\n",
       "\n",
       "    .dataframe tbody tr th {\n",
       "        vertical-align: top;\n",
       "    }\n",
       "\n",
       "    .dataframe thead th {\n",
       "        text-align: right;\n",
       "    }\n",
       "</style>\n",
       "<table border=\"1\" class=\"dataframe\">\n",
       "  <thead>\n",
       "    <tr style=\"text-align: right;\">\n",
       "      <th></th>\n",
       "      <th>State</th>\n",
       "      <th>Medicaid renewed</th>\n",
       "      <th>Medicaid terminated</th>\n",
       "      <th>Month</th>\n",
       "    </tr>\n",
       "  </thead>\n",
       "  <tbody>\n",
       "    <tr>\n",
       "      <th>0</th>\n",
       "      <td>AK</td>\n",
       "      <td>-</td>\n",
       "      <td>-</td>\n",
       "      <td>March</td>\n",
       "    </tr>\n",
       "    <tr>\n",
       "      <th>1</th>\n",
       "      <td>AL</td>\n",
       "      <td>-</td>\n",
       "      <td>-</td>\n",
       "      <td>March</td>\n",
       "    </tr>\n",
       "    <tr>\n",
       "      <th>2</th>\n",
       "      <td>AR</td>\n",
       "      <td>-</td>\n",
       "      <td>-</td>\n",
       "      <td>March</td>\n",
       "    </tr>\n",
       "    <tr>\n",
       "      <th>3</th>\n",
       "      <td>AZ</td>\n",
       "      <td>-</td>\n",
       "      <td>-</td>\n",
       "      <td>March</td>\n",
       "    </tr>\n",
       "    <tr>\n",
       "      <th>4</th>\n",
       "      <td>CA</td>\n",
       "      <td>-</td>\n",
       "      <td>-</td>\n",
       "      <td>March</td>\n",
       "    </tr>\n",
       "  </tbody>\n",
       "</table>\n",
       "</div>"
      ],
      "text/plain": [
       "  State Medicaid renewed Medicaid terminated  Month\n",
       "0    AK                -                   -  March\n",
       "1    AL                -                   -  March\n",
       "2    AR                -                   -  March\n",
       "3    AZ                -                   -  March\n",
       "4    CA                -                   -  March"
      ]
     },
     "execution_count": 13,
     "metadata": {},
     "output_type": "execute_result"
    }
   ],
   "source": [
    "mar_medicaid = pd.read_excel('https://www.medicaid.gov/media/160296', sheet_name = 3, skiprows = [0,1,3,55,56,57,58,59,60])\n",
    "\n",
    "mar_medicaid.drop(list(mar_medicaid.columns[1:3])+list(mar_medicaid.columns[4:6])+list(mar_medicaid.columns[7:11]), axis = 1, inplace = True)\n",
    "\n",
    "month = pd.Series([])\n",
    "mar_medicaid['Month'] = 'March'\n",
    "\n",
    "mar_medicaid.rename(columns = {'Total number of \\nbeneficiaries due for \\nrenewal in the reporting \\nmonth whose coverage \\nwas renewed \\n(Metric 5a)': 'Medicaid renewed', 'Total number of \\nbeneficiaries due for \\nrenewal in the reporting \\nmonth whose coverage \\nwas terminated\\n(Metric 5b + 5c)': 'Medicaid terminated'}, inplace = True)\n",
    "\n",
    "mar_medicaid.head() "
   ]
  },
  {
   "cell_type": "markdown",
   "id": "627ab3e9",
   "metadata": {},
   "source": [
    "### Step 3. "
   ]
  },
  {
   "cell_type": "markdown",
   "id": "2e08a01d",
   "metadata": {},
   "source": [
    "All these data sets must now be combined into one dataframe."
   ]
  },
  {
   "cell_type": "code",
   "execution_count": 14,
   "id": "e9730de0",
   "metadata": {},
   "outputs": [
    {
     "data": {
      "text/html": [
       "<div>\n",
       "<style scoped>\n",
       "    .dataframe tbody tr th:only-of-type {\n",
       "        vertical-align: middle;\n",
       "    }\n",
       "\n",
       "    .dataframe tbody tr th {\n",
       "        vertical-align: top;\n",
       "    }\n",
       "\n",
       "    .dataframe thead th {\n",
       "        text-align: right;\n",
       "    }\n",
       "</style>\n",
       "<table border=\"1\" class=\"dataframe\">\n",
       "  <thead>\n",
       "    <tr style=\"text-align: right;\">\n",
       "      <th></th>\n",
       "      <th>State</th>\n",
       "      <th>Medicaid renewed</th>\n",
       "      <th>Medicaid terminated</th>\n",
       "      <th>Month</th>\n",
       "    </tr>\n",
       "  </thead>\n",
       "  <tbody>\n",
       "    <tr>\n",
       "      <th>0</th>\n",
       "      <td>AK</td>\n",
       "      <td>4710</td>\n",
       "      <td>2271</td>\n",
       "      <td>December</td>\n",
       "    </tr>\n",
       "    <tr>\n",
       "      <th>1</th>\n",
       "      <td>AL</td>\n",
       "      <td>67036</td>\n",
       "      <td>33465</td>\n",
       "      <td>December</td>\n",
       "    </tr>\n",
       "    <tr>\n",
       "      <th>2</th>\n",
       "      <td>AR</td>\n",
       "      <td>37454</td>\n",
       "      <td>4599</td>\n",
       "      <td>December</td>\n",
       "    </tr>\n",
       "    <tr>\n",
       "      <th>3</th>\n",
       "      <td>AZ</td>\n",
       "      <td>175434</td>\n",
       "      <td>20761</td>\n",
       "      <td>December</td>\n",
       "    </tr>\n",
       "    <tr>\n",
       "      <th>4</th>\n",
       "      <td>CA</td>\n",
       "      <td>899931</td>\n",
       "      <td>108863</td>\n",
       "      <td>December</td>\n",
       "    </tr>\n",
       "  </tbody>\n",
       "</table>\n",
       "</div>"
      ],
      "text/plain": [
       "  State Medicaid renewed Medicaid terminated     Month\n",
       "0    AK             4710                2271  December\n",
       "1    AL            67036               33465  December\n",
       "2    AR            37454                4599  December\n",
       "3    AZ           175434               20761  December\n",
       "4    CA           899931              108863  December"
      ]
     },
     "execution_count": 14,
     "metadata": {},
     "output_type": "execute_result"
    }
   ],
   "source": [
    "medicaid23 = row_concat = pd.concat([dec_medicaid, nov_medicaid, oct_medicaid, sep_medicaid, aug_medicaid, jul_medicaid, jun_medicaid, may_medicaid, apr_medicaid, mar_medicaid], ignore_index = True)\n",
    "medicaid23.head()"
   ]
  },
  {
   "cell_type": "markdown",
   "id": "fd4bc1f5",
   "metadata": {},
   "source": [
    "### Step 4.a"
   ]
  },
  {
   "cell_type": "markdown",
   "id": "b531215b",
   "metadata": {},
   "source": [
    "A new column, \"Expansion\" must be added to the medicaid23 dataframe containing a binary value of true or false. True = state has expanded Medicaid eligibility criteria, False = state has not expanded Medicaid eligibility criteria. This column represents the independent variable for this research's hypothesis. \n",
    "\n",
    "To do this, a function called \"expansion\" is first created which returns a true or false for each state, depending on its Medicaid expansion status. Two states expanded Medicaid eligibility criteria since the start of the data collection period, so additional logic splits the binary value by months for these states. "
   ]
  },
  {
   "cell_type": "code",
   "execution_count": 15,
   "id": "351ef695",
   "metadata": {},
   "outputs": [],
   "source": [
    "def expansion(row):\n",
    "    state = row['State']\n",
    "    month = row['Month']\n",
    "    if state == 'WY' or state == 'KS' or state == 'TX' or state == 'WI' or state == 'TN' or state == 'MS' or state == 'AL' or state == 'GA' or state == 'SC' or state == 'FL':\n",
    "        return False\n",
    "    elif state == 'SD':\n",
    "        if month == 'March' or month == 'April' or month == 'May' or month == 'June':\n",
    "            return False\n",
    "    elif state == 'NC':\n",
    "        if month != 'December':\n",
    "            return False\n",
    "    return True"
   ]
  },
  {
   "cell_type": "markdown",
   "id": "a0df78ed",
   "metadata": {},
   "source": [
    "### Step 4.b"
   ]
  },
  {
   "cell_type": "markdown",
   "id": "f035fc6a",
   "metadata": {},
   "source": [
    "This function is then applied to the new dataframe, medicaid23, where it returns true or false as a value in a new column: \"Expansion\". "
   ]
  },
  {
   "cell_type": "code",
   "execution_count": 16,
   "id": "d6c75cba",
   "metadata": {},
   "outputs": [
    {
     "data": {
      "text/html": [
       "<div>\n",
       "<style scoped>\n",
       "    .dataframe tbody tr th:only-of-type {\n",
       "        vertical-align: middle;\n",
       "    }\n",
       "\n",
       "    .dataframe tbody tr th {\n",
       "        vertical-align: top;\n",
       "    }\n",
       "\n",
       "    .dataframe thead th {\n",
       "        text-align: right;\n",
       "    }\n",
       "</style>\n",
       "<table border=\"1\" class=\"dataframe\">\n",
       "  <thead>\n",
       "    <tr style=\"text-align: right;\">\n",
       "      <th></th>\n",
       "      <th>State</th>\n",
       "      <th>Medicaid renewed</th>\n",
       "      <th>Medicaid terminated</th>\n",
       "      <th>Month</th>\n",
       "      <th>Expansion</th>\n",
       "    </tr>\n",
       "  </thead>\n",
       "  <tbody>\n",
       "    <tr>\n",
       "      <th>0</th>\n",
       "      <td>AK</td>\n",
       "      <td>4710</td>\n",
       "      <td>2271</td>\n",
       "      <td>December</td>\n",
       "      <td>True</td>\n",
       "    </tr>\n",
       "    <tr>\n",
       "      <th>1</th>\n",
       "      <td>AL</td>\n",
       "      <td>67036</td>\n",
       "      <td>33465</td>\n",
       "      <td>December</td>\n",
       "      <td>False</td>\n",
       "    </tr>\n",
       "    <tr>\n",
       "      <th>2</th>\n",
       "      <td>AR</td>\n",
       "      <td>37454</td>\n",
       "      <td>4599</td>\n",
       "      <td>December</td>\n",
       "      <td>True</td>\n",
       "    </tr>\n",
       "    <tr>\n",
       "      <th>3</th>\n",
       "      <td>AZ</td>\n",
       "      <td>175434</td>\n",
       "      <td>20761</td>\n",
       "      <td>December</td>\n",
       "      <td>True</td>\n",
       "    </tr>\n",
       "    <tr>\n",
       "      <th>4</th>\n",
       "      <td>CA</td>\n",
       "      <td>899931</td>\n",
       "      <td>108863</td>\n",
       "      <td>December</td>\n",
       "      <td>True</td>\n",
       "    </tr>\n",
       "  </tbody>\n",
       "</table>\n",
       "</div>"
      ],
      "text/plain": [
       "  State Medicaid renewed Medicaid terminated     Month  Expansion\n",
       "0    AK             4710                2271  December       True\n",
       "1    AL            67036               33465  December      False\n",
       "2    AR            37454                4599  December       True\n",
       "3    AZ           175434               20761  December       True\n",
       "4    CA           899931              108863  December       True"
      ]
     },
     "execution_count": 16,
     "metadata": {},
     "output_type": "execute_result"
    }
   ],
   "source": [
    "pd.set_option('display.max_rows', 400)\n",
    "\n",
    "medicaid23['Expansion'] = medicaid23.apply(expansion, axis = 1)\n",
    "medicaid23.head()"
   ]
  },
  {
   "cell_type": "markdown",
   "id": "6be5f309",
   "metadata": {},
   "source": [
    "### Step 5.a"
   ]
  },
  {
   "cell_type": "markdown",
   "id": "c83b3513",
   "metadata": {},
   "source": [
    "Now I upload the dataset containing new marketplace enrollments in the reporting period and skip unecessary rows."
   ]
  },
  {
   "cell_type": "code",
   "execution_count": 17,
   "id": "f53d52f4",
   "metadata": {},
   "outputs": [
    {
     "data": {
      "text/html": [
       "<div>\n",
       "<style scoped>\n",
       "    .dataframe tbody tr th:only-of-type {\n",
       "        vertical-align: middle;\n",
       "    }\n",
       "\n",
       "    .dataframe tbody tr th {\n",
       "        vertical-align: top;\n",
       "    }\n",
       "\n",
       "    .dataframe thead th {\n",
       "        text-align: right;\n",
       "    }\n",
       "</style>\n",
       "<table border=\"1\" class=\"dataframe\">\n",
       "  <thead>\n",
       "    <tr style=\"text-align: right;\">\n",
       "      <th></th>\n",
       "      <th>State</th>\n",
       "      <th>Metric</th>\n",
       "      <th>April 2023: Net Count</th>\n",
       "      <th>April 2023: Net Percentagea</th>\n",
       "      <th>May 2023: Net Count</th>\n",
       "      <th>May 2023: Net Percentagea</th>\n",
       "      <th>June 2023: Net Count</th>\n",
       "      <th>June 2023: Net Percentagea</th>\n",
       "      <th>July 2023: Net Count</th>\n",
       "      <th>July 2023: Net Percentagea</th>\n",
       "      <th>...</th>\n",
       "      <th>September 2023: Net Count</th>\n",
       "      <th>September 2023: Net Percentagea</th>\n",
       "      <th>October 2023: Net Count</th>\n",
       "      <th>October 2023: Net Percentagea</th>\n",
       "      <th>November 2023: Net Count</th>\n",
       "      <th>November 2023: Net Percentagea</th>\n",
       "      <th>December 2023: Net Count</th>\n",
       "      <th>December 2023: Net Percentagea</th>\n",
       "      <th>December 2023: Cumulative Count</th>\n",
       "      <th>December Cumulative 2023: Percentagea</th>\n",
       "    </tr>\n",
       "  </thead>\n",
       "  <tbody>\n",
       "    <tr>\n",
       "      <th>0</th>\n",
       "      <td>Alabama</td>\n",
       "      <td>blank</td>\n",
       "      <td>blank</td>\n",
       "      <td>blank</td>\n",
       "      <td>blank</td>\n",
       "      <td>blank</td>\n",
       "      <td>blank</td>\n",
       "      <td>blank</td>\n",
       "      <td>blank</td>\n",
       "      <td>blank</td>\n",
       "      <td>...</td>\n",
       "      <td>blank</td>\n",
       "      <td>blank</td>\n",
       "      <td>blank</td>\n",
       "      <td>blank</td>\n",
       "      <td>blank</td>\n",
       "      <td>blank</td>\n",
       "      <td>blank</td>\n",
       "      <td>blank</td>\n",
       "      <td>blank</td>\n",
       "      <td>blank</td>\n",
       "    </tr>\n",
       "    <tr>\n",
       "      <th>1</th>\n",
       "      <td>Alabama</td>\n",
       "      <td>Marketplace Consumers with Previous Medicaid o...</td>\n",
       "      <td>NR</td>\n",
       "      <td>NR</td>\n",
       "      <td>NR</td>\n",
       "      <td>NR</td>\n",
       "      <td>4292</td>\n",
       "      <td>1</td>\n",
       "      <td>5942</td>\n",
       "      <td>1</td>\n",
       "      <td>...</td>\n",
       "      <td>5885</td>\n",
       "      <td>1</td>\n",
       "      <td>12673</td>\n",
       "      <td>1</td>\n",
       "      <td>26029</td>\n",
       "      <td>1</td>\n",
       "      <td>36926</td>\n",
       "      <td>1</td>\n",
       "      <td>98082</td>\n",
       "      <td>1</td>\n",
       "    </tr>\n",
       "    <tr>\n",
       "      <th>2</th>\n",
       "      <td>Alabama</td>\n",
       "      <td>Consumers Who Applied for Marketplace Coverage...</td>\n",
       "      <td>NR</td>\n",
       "      <td>NR</td>\n",
       "      <td>NR</td>\n",
       "      <td>NR</td>\n",
       "      <td>757</td>\n",
       "      <td>0.176375</td>\n",
       "      <td>907</td>\n",
       "      <td>0.152642</td>\n",
       "      <td>...</td>\n",
       "      <td>653</td>\n",
       "      <td>0.11096</td>\n",
       "      <td>1914</td>\n",
       "      <td>0.15103</td>\n",
       "      <td>4360</td>\n",
       "      <td>0.167505</td>\n",
       "      <td>4236</td>\n",
       "      <td>0.114716</td>\n",
       "      <td>13648</td>\n",
       "      <td>0.139149</td>\n",
       "    </tr>\n",
       "    <tr>\n",
       "      <th>3</th>\n",
       "      <td>Alabama</td>\n",
       "      <td>Consumers Who Applied for Marketplace Coverage...</td>\n",
       "      <td>NR</td>\n",
       "      <td>NR</td>\n",
       "      <td>NR</td>\n",
       "      <td>NR</td>\n",
       "      <td>3522</td>\n",
       "      <td>0.820596</td>\n",
       "      <td>4999</td>\n",
       "      <td>0.841299</td>\n",
       "      <td>...</td>\n",
       "      <td>5188</td>\n",
       "      <td>0.881563</td>\n",
       "      <td>10706</td>\n",
       "      <td>0.844788</td>\n",
       "      <td>21628</td>\n",
       "      <td>0.830919</td>\n",
       "      <td>32639</td>\n",
       "      <td>0.883903</td>\n",
       "      <td>84110</td>\n",
       "      <td>0.857548</td>\n",
       "    </tr>\n",
       "    <tr>\n",
       "      <th>4</th>\n",
       "      <td>Alabama</td>\n",
       "      <td>Eligible for APTC</td>\n",
       "      <td>NR</td>\n",
       "      <td>NR</td>\n",
       "      <td>NR</td>\n",
       "      <td>NR</td>\n",
       "      <td>2899</td>\n",
       "      <td>0.675443</td>\n",
       "      <td>3932</td>\n",
       "      <td>0.66173</td>\n",
       "      <td>...</td>\n",
       "      <td>4055</td>\n",
       "      <td>0.68904</td>\n",
       "      <td>8819</td>\n",
       "      <td>0.695889</td>\n",
       "      <td>18336</td>\n",
       "      <td>0.704445</td>\n",
       "      <td>29341</td>\n",
       "      <td>0.794589</td>\n",
       "      <td>71683</td>\n",
       "      <td>0.730848</td>\n",
       "    </tr>\n",
       "  </tbody>\n",
       "</table>\n",
       "<p>5 rows × 22 columns</p>\n",
       "</div>"
      ],
      "text/plain": [
       "     State                                            Metric   \\\n",
       "0  Alabama                                              blank   \n",
       "1  Alabama  Marketplace Consumers with Previous Medicaid o...   \n",
       "2  Alabama  Consumers Who Applied for Marketplace Coverage...   \n",
       "3  Alabama  Consumers Who Applied for Marketplace Coverage...   \n",
       "4  Alabama                                  Eligible for APTC   \n",
       "\n",
       "  April 2023: Net Count April 2023: Net Percentagea May 2023: Net Count  \\\n",
       "0                 blank                       blank               blank   \n",
       "1                    NR                          NR                  NR   \n",
       "2                    NR                          NR                  NR   \n",
       "3                    NR                          NR                  NR   \n",
       "4                    NR                          NR                  NR   \n",
       "\n",
       "  May 2023: Net Percentagea June 2023: Net Count June 2023: Net Percentagea  \\\n",
       "0                     blank                blank                      blank   \n",
       "1                        NR                 4292                          1   \n",
       "2                        NR                  757                   0.176375   \n",
       "3                        NR                 3522                   0.820596   \n",
       "4                        NR                 2899                   0.675443   \n",
       "\n",
       "  July 2023: Net Count July 2023: Net Percentagea  ...  \\\n",
       "0                blank                      blank  ...   \n",
       "1                 5942                          1  ...   \n",
       "2                  907                   0.152642  ...   \n",
       "3                 4999                   0.841299  ...   \n",
       "4                 3932                    0.66173  ...   \n",
       "\n",
       "  September 2023: Net Count September 2023: Net Percentagea  \\\n",
       "0                     blank                           blank   \n",
       "1                      5885                               1   \n",
       "2                       653                         0.11096   \n",
       "3                      5188                        0.881563   \n",
       "4                      4055                         0.68904   \n",
       "\n",
       "  October 2023: Net Count October 2023: Net Percentagea  \\\n",
       "0                   blank                         blank   \n",
       "1                   12673                             1   \n",
       "2                    1914                       0.15103   \n",
       "3                   10706                      0.844788   \n",
       "4                    8819                      0.695889   \n",
       "\n",
       "  November 2023: Net Count November 2023: Net Percentagea  \\\n",
       "0                    blank                          blank   \n",
       "1                    26029                              1   \n",
       "2                     4360                       0.167505   \n",
       "3                    21628                       0.830919   \n",
       "4                    18336                       0.704445   \n",
       "\n",
       "  December 2023: Net Count December 2023: Net Percentagea  \\\n",
       "0                    blank                          blank   \n",
       "1                    36926                              1   \n",
       "2                     4236                       0.114716   \n",
       "3                    32639                       0.883903   \n",
       "4                    29341                       0.794589   \n",
       "\n",
       "  December 2023: Cumulative Count December Cumulative 2023: Percentagea  \n",
       "0                           blank                                 blank  \n",
       "1                           98082                                     1  \n",
       "2                           13648                              0.139149  \n",
       "3                           84110                              0.857548  \n",
       "4                           71683                              0.730848  \n",
       "\n",
       "[5 rows x 22 columns]"
      ]
     },
     "execution_count": 17,
     "metadata": {},
     "output_type": "execute_result"
    }
   ],
   "source": [
    "marketplace = pd.read_excel('https://www.medicaid.gov/media/174616', skiprows = [0,2,3,4,5,6,7,8,242,243,244,245,246,247])\n",
    "marketplace.head()"
   ]
  },
  {
   "cell_type": "markdown",
   "id": "5eb199cf",
   "metadata": {},
   "source": [
    "### Step 5.b"
   ]
  },
  {
   "cell_type": "markdown",
   "id": "48773abe",
   "metadata": {},
   "source": [
    "I then drop the columns of data irrelevant to this analysis."
   ]
  },
  {
   "cell_type": "code",
   "execution_count": 18,
   "id": "ae2452d9",
   "metadata": {},
   "outputs": [
    {
     "data": {
      "text/html": [
       "<div>\n",
       "<style scoped>\n",
       "    .dataframe tbody tr th:only-of-type {\n",
       "        vertical-align: middle;\n",
       "    }\n",
       "\n",
       "    .dataframe tbody tr th {\n",
       "        vertical-align: top;\n",
       "    }\n",
       "\n",
       "    .dataframe thead th {\n",
       "        text-align: right;\n",
       "    }\n",
       "</style>\n",
       "<table border=\"1\" class=\"dataframe\">\n",
       "  <thead>\n",
       "    <tr style=\"text-align: right;\">\n",
       "      <th></th>\n",
       "      <th>State</th>\n",
       "      <th>Metric</th>\n",
       "      <th>April 2023: Net Count</th>\n",
       "      <th>May 2023: Net Count</th>\n",
       "      <th>June 2023: Net Count</th>\n",
       "      <th>July 2023: Net Count</th>\n",
       "      <th>August 2023: Net Count</th>\n",
       "      <th>September 2023: Net Count</th>\n",
       "      <th>October 2023: Net Count</th>\n",
       "      <th>November 2023: Net Count</th>\n",
       "      <th>December 2023: Net Count</th>\n",
       "    </tr>\n",
       "  </thead>\n",
       "  <tbody>\n",
       "    <tr>\n",
       "      <th>0</th>\n",
       "      <td>Alabama</td>\n",
       "      <td>blank</td>\n",
       "      <td>blank</td>\n",
       "      <td>blank</td>\n",
       "      <td>blank</td>\n",
       "      <td>blank</td>\n",
       "      <td>blank</td>\n",
       "      <td>blank</td>\n",
       "      <td>blank</td>\n",
       "      <td>blank</td>\n",
       "      <td>blank</td>\n",
       "    </tr>\n",
       "    <tr>\n",
       "      <th>1</th>\n",
       "      <td>Alabama</td>\n",
       "      <td>Marketplace Consumers with Previous Medicaid o...</td>\n",
       "      <td>NR</td>\n",
       "      <td>NR</td>\n",
       "      <td>4292</td>\n",
       "      <td>5942</td>\n",
       "      <td>6335</td>\n",
       "      <td>5885</td>\n",
       "      <td>12673</td>\n",
       "      <td>26029</td>\n",
       "      <td>36926</td>\n",
       "    </tr>\n",
       "    <tr>\n",
       "      <th>2</th>\n",
       "      <td>Alabama</td>\n",
       "      <td>Consumers Who Applied for Marketplace Coverage...</td>\n",
       "      <td>NR</td>\n",
       "      <td>NR</td>\n",
       "      <td>757</td>\n",
       "      <td>907</td>\n",
       "      <td>821</td>\n",
       "      <td>653</td>\n",
       "      <td>1914</td>\n",
       "      <td>4360</td>\n",
       "      <td>4236</td>\n",
       "    </tr>\n",
       "    <tr>\n",
       "      <th>3</th>\n",
       "      <td>Alabama</td>\n",
       "      <td>Consumers Who Applied for Marketplace Coverage...</td>\n",
       "      <td>NR</td>\n",
       "      <td>NR</td>\n",
       "      <td>3522</td>\n",
       "      <td>4999</td>\n",
       "      <td>5428</td>\n",
       "      <td>5188</td>\n",
       "      <td>10706</td>\n",
       "      <td>21628</td>\n",
       "      <td>32639</td>\n",
       "    </tr>\n",
       "    <tr>\n",
       "      <th>4</th>\n",
       "      <td>Alabama</td>\n",
       "      <td>Eligible for APTC</td>\n",
       "      <td>NR</td>\n",
       "      <td>NR</td>\n",
       "      <td>2899</td>\n",
       "      <td>3932</td>\n",
       "      <td>4301</td>\n",
       "      <td>4055</td>\n",
       "      <td>8819</td>\n",
       "      <td>18336</td>\n",
       "      <td>29341</td>\n",
       "    </tr>\n",
       "  </tbody>\n",
       "</table>\n",
       "</div>"
      ],
      "text/plain": [
       "     State                                            Metric   \\\n",
       "0  Alabama                                              blank   \n",
       "1  Alabama  Marketplace Consumers with Previous Medicaid o...   \n",
       "2  Alabama  Consumers Who Applied for Marketplace Coverage...   \n",
       "3  Alabama  Consumers Who Applied for Marketplace Coverage...   \n",
       "4  Alabama                                  Eligible for APTC   \n",
       "\n",
       "  April 2023: Net Count May 2023: Net Count June 2023: Net Count  \\\n",
       "0                 blank               blank                blank   \n",
       "1                    NR                  NR                 4292   \n",
       "2                    NR                  NR                  757   \n",
       "3                    NR                  NR                 3522   \n",
       "4                    NR                  NR                 2899   \n",
       "\n",
       "  July 2023: Net Count August 2023: Net Count September 2023: Net Count  \\\n",
       "0                blank                  blank                     blank   \n",
       "1                 5942                   6335                      5885   \n",
       "2                  907                    821                       653   \n",
       "3                 4999                   5428                      5188   \n",
       "4                 3932                   4301                      4055   \n",
       "\n",
       "  October 2023: Net Count November 2023: Net Count December 2023: Net Count  \n",
       "0                   blank                    blank                    blank  \n",
       "1                   12673                    26029                    36926  \n",
       "2                    1914                     4360                     4236  \n",
       "3                   10706                    21628                    32639  \n",
       "4                    8819                    18336                    29341  "
      ]
     },
     "execution_count": 18,
     "metadata": {},
     "output_type": "execute_result"
    }
   ],
   "source": [
    "marketplace.drop('April 2023: Net Percentagea', axis = 1, inplace = True)\n",
    "marketplace.drop('May 2023: Net Percentagea', axis = 1, inplace = True)\n",
    "marketplace.drop('June 2023: Net Percentagea', axis = 1, inplace = True)\n",
    "marketplace.drop('July 2023: Net Percentagea', axis = 1, inplace = True)\n",
    "marketplace.drop('August 2023: Net Percentagea', axis = 1, inplace = True)\n",
    "marketplace.drop('September 2023: Net Percentagea', axis = 1, inplace = True)\n",
    "marketplace.drop('October 2023: Net Percentagea', axis = 1, inplace = True)\n",
    "marketplace.drop('November 2023: Net Percentagea', axis = 1, inplace = True)\n",
    "marketplace.drop('December 2023: Net Percentagea', axis = 1, inplace = True)\n",
    "marketplace.drop('December 2023: Cumulative Count', axis = 1, inplace = True)\n",
    "marketplace.drop('December Cumulative 2023: Percentagea', axis = 1, inplace = True)\n",
    "marketplace.head()"
   ]
  },
  {
   "cell_type": "markdown",
   "id": "c506c25e",
   "metadata": {},
   "source": [
    "### Step 5.c"
   ]
  },
  {
   "cell_type": "markdown",
   "id": "46fec87b",
   "metadata": {},
   "source": [
    "A subset is then created which narrows in only on \"Consumers with a QHP Selection\". This value represents the number of new Marketplace enrollments."
   ]
  },
  {
   "cell_type": "code",
   "execution_count": 19,
   "id": "9e5b1c68",
   "metadata": {},
   "outputs": [
    {
     "data": {
      "text/html": [
       "<div>\n",
       "<style scoped>\n",
       "    .dataframe tbody tr th:only-of-type {\n",
       "        vertical-align: middle;\n",
       "    }\n",
       "\n",
       "    .dataframe tbody tr th {\n",
       "        vertical-align: top;\n",
       "    }\n",
       "\n",
       "    .dataframe thead th {\n",
       "        text-align: right;\n",
       "    }\n",
       "</style>\n",
       "<table border=\"1\" class=\"dataframe\">\n",
       "  <thead>\n",
       "    <tr style=\"text-align: right;\">\n",
       "      <th></th>\n",
       "      <th>State</th>\n",
       "      <th>Metric</th>\n",
       "      <th>April 2023: Net Count</th>\n",
       "      <th>May 2023: Net Count</th>\n",
       "      <th>June 2023: Net Count</th>\n",
       "      <th>July 2023: Net Count</th>\n",
       "      <th>August 2023: Net Count</th>\n",
       "      <th>September 2023: Net Count</th>\n",
       "      <th>October 2023: Net Count</th>\n",
       "      <th>November 2023: Net Count</th>\n",
       "      <th>December 2023: Net Count</th>\n",
       "    </tr>\n",
       "  </thead>\n",
       "  <tbody>\n",
       "    <tr>\n",
       "      <th>6</th>\n",
       "      <td>Alabama</td>\n",
       "      <td>Consumers with a QHP Selection</td>\n",
       "      <td>NR</td>\n",
       "      <td>NR</td>\n",
       "      <td>2626</td>\n",
       "      <td>3447</td>\n",
       "      <td>3863</td>\n",
       "      <td>3483</td>\n",
       "      <td>7994</td>\n",
       "      <td>18533</td>\n",
       "      <td>28887</td>\n",
       "    </tr>\n",
       "    <tr>\n",
       "      <th>13</th>\n",
       "      <td>Alaska</td>\n",
       "      <td>Consumers with a QHP Selection</td>\n",
       "      <td>NR</td>\n",
       "      <td>239</td>\n",
       "      <td>169</td>\n",
       "      <td>198</td>\n",
       "      <td>186</td>\n",
       "      <td>197</td>\n",
       "      <td>373</td>\n",
       "      <td>1616</td>\n",
       "      <td>2610</td>\n",
       "    </tr>\n",
       "    <tr>\n",
       "      <th>20</th>\n",
       "      <td>Arizona</td>\n",
       "      <td>Consumers with a QHP Selection</td>\n",
       "      <td>3829</td>\n",
       "      <td>6048</td>\n",
       "      <td>6368</td>\n",
       "      <td>6756</td>\n",
       "      <td>6637</td>\n",
       "      <td>6175</td>\n",
       "      <td>12185</td>\n",
       "      <td>22353</td>\n",
       "      <td>27593</td>\n",
       "    </tr>\n",
       "    <tr>\n",
       "      <th>27</th>\n",
       "      <td>Arkansas</td>\n",
       "      <td>Consumers with a QHP Selection</td>\n",
       "      <td>2674</td>\n",
       "      <td>3783</td>\n",
       "      <td>4198</td>\n",
       "      <td>3803</td>\n",
       "      <td>4121</td>\n",
       "      <td>3419</td>\n",
       "      <td>4687</td>\n",
       "      <td>10936</td>\n",
       "      <td>17332</td>\n",
       "    </tr>\n",
       "    <tr>\n",
       "      <th>34</th>\n",
       "      <td>Delaware</td>\n",
       "      <td>Consumers with a QHP Selection</td>\n",
       "      <td>NR</td>\n",
       "      <td>375</td>\n",
       "      <td>420</td>\n",
       "      <td>720</td>\n",
       "      <td>772</td>\n",
       "      <td>806</td>\n",
       "      <td>1238</td>\n",
       "      <td>2368</td>\n",
       "      <td>3659</td>\n",
       "    </tr>\n",
       "  </tbody>\n",
       "</table>\n",
       "</div>"
      ],
      "text/plain": [
       "       State                         Metric  April 2023: Net Count  \\\n",
       "6    Alabama  Consumers with a QHP Selection                    NR   \n",
       "13    Alaska  Consumers with a QHP Selection                    NR   \n",
       "20   Arizona  Consumers with a QHP Selection                  3829   \n",
       "27  Arkansas  Consumers with a QHP Selection                  2674   \n",
       "34  Delaware  Consumers with a QHP Selection                    NR   \n",
       "\n",
       "   May 2023: Net Count June 2023: Net Count July 2023: Net Count  \\\n",
       "6                   NR                 2626                 3447   \n",
       "13                 239                  169                  198   \n",
       "20                6048                 6368                 6756   \n",
       "27                3783                 4198                 3803   \n",
       "34                 375                  420                  720   \n",
       "\n",
       "   August 2023: Net Count September 2023: Net Count October 2023: Net Count  \\\n",
       "6                    3863                      3483                    7994   \n",
       "13                    186                       197                     373   \n",
       "20                   6637                      6175                   12185   \n",
       "27                   4121                      3419                    4687   \n",
       "34                    772                       806                    1238   \n",
       "\n",
       "   November 2023: Net Count December 2023: Net Count  \n",
       "6                     18533                    28887  \n",
       "13                     1616                     2610  \n",
       "20                    22353                    27593  \n",
       "27                    10936                    17332  \n",
       "34                     2368                     3659  "
      ]
     },
     "execution_count": 19,
     "metadata": {},
     "output_type": "execute_result"
    }
   ],
   "source": [
    "marketplace_enrollment = marketplace[(marketplace['Metric ']=='Consumers with a QHP Selection')]\n",
    "marketplace_enrollment.head()"
   ]
  },
  {
   "cell_type": "markdown",
   "id": "88d00088",
   "metadata": {},
   "source": [
    "### Step 5.d"
   ]
  },
  {
   "cell_type": "markdown",
   "id": "58635084",
   "metadata": {},
   "source": [
    "To make the columns more uniform with the dataframe medicaid23, I update their names."
   ]
  },
  {
   "cell_type": "code",
   "execution_count": 20,
   "id": "d86f80a5",
   "metadata": {},
   "outputs": [
    {
     "name": "stderr",
     "output_type": "stream",
     "text": [
      "/var/folders/5r/z2vd0f9j3clfrk7tgg7p0_f80000gp/T/ipykernel_1643/3919150120.py:1: SettingWithCopyWarning: \n",
      "A value is trying to be set on a copy of a slice from a DataFrame\n",
      "\n",
      "See the caveats in the documentation: https://pandas.pydata.org/pandas-docs/stable/user_guide/indexing.html#returning-a-view-versus-a-copy\n",
      "  marketplace_enrollment.rename(columns = {'April 2023: Net Count': 'April', 'May 2023: Net Count': 'May', 'June 2023: Net Count': 'June', 'July 2023: Net Count': 'July', 'August 2023: Net Count': 'August', 'September 2023: Net Count': 'September', 'October 2023: Net Count': 'October', 'November 2023: Net Count': 'November', 'December 2023: Net Count': 'December'}, inplace = True)\n"
     ]
    },
    {
     "data": {
      "text/html": [
       "<div>\n",
       "<style scoped>\n",
       "    .dataframe tbody tr th:only-of-type {\n",
       "        vertical-align: middle;\n",
       "    }\n",
       "\n",
       "    .dataframe tbody tr th {\n",
       "        vertical-align: top;\n",
       "    }\n",
       "\n",
       "    .dataframe thead th {\n",
       "        text-align: right;\n",
       "    }\n",
       "</style>\n",
       "<table border=\"1\" class=\"dataframe\">\n",
       "  <thead>\n",
       "    <tr style=\"text-align: right;\">\n",
       "      <th></th>\n",
       "      <th>State</th>\n",
       "      <th>Metric</th>\n",
       "      <th>April</th>\n",
       "      <th>May</th>\n",
       "      <th>June</th>\n",
       "      <th>July</th>\n",
       "      <th>August</th>\n",
       "      <th>September</th>\n",
       "      <th>October</th>\n",
       "      <th>November</th>\n",
       "      <th>December</th>\n",
       "    </tr>\n",
       "  </thead>\n",
       "  <tbody>\n",
       "    <tr>\n",
       "      <th>6</th>\n",
       "      <td>Alabama</td>\n",
       "      <td>Consumers with a QHP Selection</td>\n",
       "      <td>NR</td>\n",
       "      <td>NR</td>\n",
       "      <td>2626</td>\n",
       "      <td>3447</td>\n",
       "      <td>3863</td>\n",
       "      <td>3483</td>\n",
       "      <td>7994</td>\n",
       "      <td>18533</td>\n",
       "      <td>28887</td>\n",
       "    </tr>\n",
       "    <tr>\n",
       "      <th>13</th>\n",
       "      <td>Alaska</td>\n",
       "      <td>Consumers with a QHP Selection</td>\n",
       "      <td>NR</td>\n",
       "      <td>239</td>\n",
       "      <td>169</td>\n",
       "      <td>198</td>\n",
       "      <td>186</td>\n",
       "      <td>197</td>\n",
       "      <td>373</td>\n",
       "      <td>1616</td>\n",
       "      <td>2610</td>\n",
       "    </tr>\n",
       "    <tr>\n",
       "      <th>20</th>\n",
       "      <td>Arizona</td>\n",
       "      <td>Consumers with a QHP Selection</td>\n",
       "      <td>3829</td>\n",
       "      <td>6048</td>\n",
       "      <td>6368</td>\n",
       "      <td>6756</td>\n",
       "      <td>6637</td>\n",
       "      <td>6175</td>\n",
       "      <td>12185</td>\n",
       "      <td>22353</td>\n",
       "      <td>27593</td>\n",
       "    </tr>\n",
       "    <tr>\n",
       "      <th>27</th>\n",
       "      <td>Arkansas</td>\n",
       "      <td>Consumers with a QHP Selection</td>\n",
       "      <td>2674</td>\n",
       "      <td>3783</td>\n",
       "      <td>4198</td>\n",
       "      <td>3803</td>\n",
       "      <td>4121</td>\n",
       "      <td>3419</td>\n",
       "      <td>4687</td>\n",
       "      <td>10936</td>\n",
       "      <td>17332</td>\n",
       "    </tr>\n",
       "    <tr>\n",
       "      <th>34</th>\n",
       "      <td>Delaware</td>\n",
       "      <td>Consumers with a QHP Selection</td>\n",
       "      <td>NR</td>\n",
       "      <td>375</td>\n",
       "      <td>420</td>\n",
       "      <td>720</td>\n",
       "      <td>772</td>\n",
       "      <td>806</td>\n",
       "      <td>1238</td>\n",
       "      <td>2368</td>\n",
       "      <td>3659</td>\n",
       "    </tr>\n",
       "  </tbody>\n",
       "</table>\n",
       "</div>"
      ],
      "text/plain": [
       "       State                         Metric  April   May  June  July August  \\\n",
       "6    Alabama  Consumers with a QHP Selection    NR    NR  2626  3447   3863   \n",
       "13    Alaska  Consumers with a QHP Selection    NR   239   169   198    186   \n",
       "20   Arizona  Consumers with a QHP Selection  3829  6048  6368  6756   6637   \n",
       "27  Arkansas  Consumers with a QHP Selection  2674  3783  4198  3803   4121   \n",
       "34  Delaware  Consumers with a QHP Selection    NR   375   420   720    772   \n",
       "\n",
       "   September October November December  \n",
       "6       3483    7994    18533    28887  \n",
       "13       197     373     1616     2610  \n",
       "20      6175   12185    22353    27593  \n",
       "27      3419    4687    10936    17332  \n",
       "34       806    1238     2368     3659  "
      ]
     },
     "execution_count": 20,
     "metadata": {},
     "output_type": "execute_result"
    }
   ],
   "source": [
    "marketplace_enrollment.rename(columns = {'April 2023: Net Count': 'April', 'May 2023: Net Count': 'May', 'June 2023: Net Count': 'June', 'July 2023: Net Count': 'July', 'August 2023: Net Count': 'August', 'September 2023: Net Count': 'September', 'October 2023: Net Count': 'October', 'November 2023: Net Count': 'November', 'December 2023: Net Count': 'December'}, inplace = True)\n",
    "marketplace_enrollment.head()"
   ]
  },
  {
   "cell_type": "markdown",
   "id": "945689f7",
   "metadata": {},
   "source": [
    "### Step 5.e"
   ]
  },
  {
   "cell_type": "markdown",
   "id": "79890fd6",
   "metadata": {},
   "source": [
    "Now that we've narrowed in on the one data category we need from this dataset, we can drop the column that previously distinguished it from others."
   ]
  },
  {
   "cell_type": "code",
   "execution_count": 21,
   "id": "f2c84ded",
   "metadata": {},
   "outputs": [
    {
     "name": "stderr",
     "output_type": "stream",
     "text": [
      "/var/folders/5r/z2vd0f9j3clfrk7tgg7p0_f80000gp/T/ipykernel_1643/1534682753.py:1: SettingWithCopyWarning: \n",
      "A value is trying to be set on a copy of a slice from a DataFrame\n",
      "\n",
      "See the caveats in the documentation: https://pandas.pydata.org/pandas-docs/stable/user_guide/indexing.html#returning-a-view-versus-a-copy\n",
      "  marketplace_enrollment.drop('Metric ', axis = 1, inplace = True)\n"
     ]
    }
   ],
   "source": [
    "marketplace_enrollment.drop('Metric ', axis = 1, inplace = True)"
   ]
  },
  {
   "cell_type": "markdown",
   "id": "a0668750",
   "metadata": {},
   "source": [
    "### Step 5.f"
   ]
  },
  {
   "cell_type": "markdown",
   "id": "c6988436",
   "metadata": {},
   "source": [
    "To conform with the larger dataset, it is necessary to consolidate the month columns into a single colum, and to put their corresponding numeric values into a new column representing QHP (Qualifying Health Plan) Enrollments."
   ]
  },
  {
   "cell_type": "code",
   "execution_count": 22,
   "id": "315530dc",
   "metadata": {},
   "outputs": [
    {
     "data": {
      "text/html": [
       "<div>\n",
       "<style scoped>\n",
       "    .dataframe tbody tr th:only-of-type {\n",
       "        vertical-align: middle;\n",
       "    }\n",
       "\n",
       "    .dataframe tbody tr th {\n",
       "        vertical-align: top;\n",
       "    }\n",
       "\n",
       "    .dataframe thead th {\n",
       "        text-align: right;\n",
       "    }\n",
       "</style>\n",
       "<table border=\"1\" class=\"dataframe\">\n",
       "  <thead>\n",
       "    <tr style=\"text-align: right;\">\n",
       "      <th></th>\n",
       "      <th>State</th>\n",
       "      <th>Month</th>\n",
       "      <th>QHP Enrolled</th>\n",
       "    </tr>\n",
       "  </thead>\n",
       "  <tbody>\n",
       "    <tr>\n",
       "      <th>0</th>\n",
       "      <td>Alabama</td>\n",
       "      <td>April</td>\n",
       "      <td>NR</td>\n",
       "    </tr>\n",
       "    <tr>\n",
       "      <th>1</th>\n",
       "      <td>Alaska</td>\n",
       "      <td>April</td>\n",
       "      <td>NR</td>\n",
       "    </tr>\n",
       "    <tr>\n",
       "      <th>2</th>\n",
       "      <td>Arizona</td>\n",
       "      <td>April</td>\n",
       "      <td>3829</td>\n",
       "    </tr>\n",
       "    <tr>\n",
       "      <th>3</th>\n",
       "      <td>Arkansas</td>\n",
       "      <td>April</td>\n",
       "      <td>2674</td>\n",
       "    </tr>\n",
       "    <tr>\n",
       "      <th>4</th>\n",
       "      <td>Delaware</td>\n",
       "      <td>April</td>\n",
       "      <td>NR</td>\n",
       "    </tr>\n",
       "  </tbody>\n",
       "</table>\n",
       "</div>"
      ],
      "text/plain": [
       "      State  Month QHP Enrolled\n",
       "0   Alabama  April           NR\n",
       "1    Alaska  April           NR\n",
       "2   Arizona  April         3829\n",
       "3  Arkansas  April         2674\n",
       "4  Delaware  April           NR"
      ]
     },
     "execution_count": 22,
     "metadata": {},
     "output_type": "execute_result"
    }
   ],
   "source": [
    "new_marketplace_enrollments = pd.melt(marketplace_enrollment, id_vars = ('State'), var_name = 'Month', value_name = 'QHP Enrolled')\n",
    "new_marketplace_enrollments.head()"
   ]
  },
  {
   "cell_type": "markdown",
   "id": "f03e7e24",
   "metadata": {},
   "source": [
    "### Step 5.g"
   ]
  },
  {
   "cell_type": "markdown",
   "id": "26cc321b",
   "metadata": {},
   "source": [
    "States in this dataframe are represented by their full names, but they must be changed to acronyms to match the dataframe this will be merged with. The function below serves this purpose."
   ]
  },
  {
   "cell_type": "code",
   "execution_count": 23,
   "id": "3f9079a0",
   "metadata": {},
   "outputs": [],
   "source": [
    "def acronym(row):\n",
    "    \"\"\"Accepts the full name of a state and returns its acronym.\"\"\"\n",
    "    state = row['State']\n",
    "    if state == 'Alabama':\n",
    "        return 'AL'\n",
    "    elif state == 'Alaska':\n",
    "        return 'AK'\n",
    "    elif state == 'Arizona':\n",
    "        return 'AZ'\n",
    "    elif state == 'Arkansas':\n",
    "        return 'AR'\n",
    "    elif state == 'California':\n",
    "        return 'CA'\n",
    "    elif state == 'Colorado':\n",
    "        return 'CO'\n",
    "    elif state == 'Connecticut':\n",
    "        return 'CT'\n",
    "    elif state == 'Delaware':\n",
    "        return 'DE'\n",
    "    elif state == 'Florida':\n",
    "        return 'FL'\n",
    "    elif state == 'Georgia':\n",
    "        return 'GA'\n",
    "    elif state == 'Hawaii':\n",
    "        return 'HI'\n",
    "    elif state == 'Idaho':\n",
    "        return 'ID'\n",
    "    elif state == 'Illinois':\n",
    "        return 'IL'\n",
    "    elif state == 'Indiana':\n",
    "        return 'IN'\n",
    "    elif state == 'Iowa':\n",
    "        return 'IA'\n",
    "    elif state == 'Kansas':\n",
    "        return 'KS'\n",
    "    elif state == 'Kentucky':\n",
    "        return 'KY'\n",
    "    elif state == 'Louisiana':\n",
    "        return 'LA'\n",
    "    elif state == 'Maine':\n",
    "        return 'ME'\n",
    "    elif state == 'Maryland':\n",
    "        return 'MD'\n",
    "    elif state == 'Massachusetts':\n",
    "        return 'MA'\n",
    "    elif state == 'Michigan':\n",
    "        return 'MI'\n",
    "    elif state == 'Minnesota':\n",
    "        return 'MN'\n",
    "    elif state == 'Mississippi':\n",
    "        return 'MS'\n",
    "    elif state == 'Missouri':\n",
    "        return 'MO'\n",
    "    elif state == 'Montana':\n",
    "        return 'MT'\n",
    "    elif state == 'Nebraska':\n",
    "        return 'NE'\n",
    "    elif state == 'Nevada':\n",
    "        return 'NV'\n",
    "    elif state == 'New Hampshire':\n",
    "        return 'NH'\n",
    "    elif state == 'New Jersey':\n",
    "        return 'NJ'\n",
    "    elif state == 'New Mexico':\n",
    "        return 'NM'\n",
    "    elif state == 'New York':\n",
    "        return 'NY'\n",
    "    elif state == 'North Carolina':\n",
    "        return 'NC'\n",
    "    elif state == 'North Dakota':\n",
    "        return 'ND'\n",
    "    elif state == 'Ohio':\n",
    "        return 'OH'\n",
    "    elif state == 'Oklahoma':\n",
    "        return 'OK'\n",
    "    elif state == 'Oregon':\n",
    "        return 'OR'\n",
    "    elif state == 'Pennsylvania':\n",
    "        return 'PA'\n",
    "    elif state == 'Rhode Island':\n",
    "        return 'RI'\n",
    "    elif state == 'South Carolina':\n",
    "        return 'SC'\n",
    "    elif state == 'South Dakota':\n",
    "        return 'SD'\n",
    "    elif state == 'Tennessee':\n",
    "        return 'TN'\n",
    "    elif state == 'Texas':\n",
    "        return 'TX'\n",
    "    elif state == 'Utah':\n",
    "        return 'UT'\n",
    "    elif state == 'Vermont':\n",
    "        return 'VT'\n",
    "    elif state == 'Virginia':\n",
    "        return 'VA'\n",
    "    elif state == 'Washington':\n",
    "        return 'WA'\n",
    "    elif state == 'West Virginia':\n",
    "        return 'WV'\n",
    "    elif state == 'Wisconsin':\n",
    "        return 'WI'\n",
    "    elif state == 'Wyoming':\n",
    "        return 'WY'"
   ]
  },
  {
   "cell_type": "markdown",
   "id": "939b05a1",
   "metadata": {},
   "source": [
    "### Step 5.h"
   ]
  },
  {
   "cell_type": "markdown",
   "id": "de296699",
   "metadata": {},
   "source": [
    "The function created to convert state names to acronyms is then applied to the dataframe."
   ]
  },
  {
   "cell_type": "code",
   "execution_count": 24,
   "id": "999e3b34",
   "metadata": {},
   "outputs": [
    {
     "data": {
      "text/html": [
       "<div>\n",
       "<style scoped>\n",
       "    .dataframe tbody tr th:only-of-type {\n",
       "        vertical-align: middle;\n",
       "    }\n",
       "\n",
       "    .dataframe tbody tr th {\n",
       "        vertical-align: top;\n",
       "    }\n",
       "\n",
       "    .dataframe thead th {\n",
       "        text-align: right;\n",
       "    }\n",
       "</style>\n",
       "<table border=\"1\" class=\"dataframe\">\n",
       "  <thead>\n",
       "    <tr style=\"text-align: right;\">\n",
       "      <th></th>\n",
       "      <th>State</th>\n",
       "      <th>Month</th>\n",
       "      <th>QHP Enrolled</th>\n",
       "    </tr>\n",
       "  </thead>\n",
       "  <tbody>\n",
       "    <tr>\n",
       "      <th>0</th>\n",
       "      <td>AL</td>\n",
       "      <td>April</td>\n",
       "      <td>NR</td>\n",
       "    </tr>\n",
       "    <tr>\n",
       "      <th>1</th>\n",
       "      <td>AK</td>\n",
       "      <td>April</td>\n",
       "      <td>NR</td>\n",
       "    </tr>\n",
       "    <tr>\n",
       "      <th>2</th>\n",
       "      <td>AZ</td>\n",
       "      <td>April</td>\n",
       "      <td>3829</td>\n",
       "    </tr>\n",
       "    <tr>\n",
       "      <th>3</th>\n",
       "      <td>AR</td>\n",
       "      <td>April</td>\n",
       "      <td>2674</td>\n",
       "    </tr>\n",
       "    <tr>\n",
       "      <th>4</th>\n",
       "      <td>DE</td>\n",
       "      <td>April</td>\n",
       "      <td>NR</td>\n",
       "    </tr>\n",
       "  </tbody>\n",
       "</table>\n",
       "</div>"
      ],
      "text/plain": [
       "  State  Month QHP Enrolled\n",
       "0    AL  April           NR\n",
       "1    AK  April           NR\n",
       "2    AZ  April         3829\n",
       "3    AR  April         2674\n",
       "4    DE  April           NR"
      ]
     },
     "execution_count": 24,
     "metadata": {},
     "output_type": "execute_result"
    }
   ],
   "source": [
    "new_marketplace_enrollments['State'] = new_marketplace_enrollments.apply(acronym, axis = 1)\n",
    "new_marketplace_enrollments.head()"
   ]
  },
  {
   "cell_type": "markdown",
   "id": "2a95e6ff",
   "metadata": {},
   "source": [
    "### Step 5.i"
   ]
  },
  {
   "cell_type": "markdown",
   "id": "08acfdb2",
   "metadata": {},
   "source": [
    "Now that both datasets have been cleaned, they can be merged together."
   ]
  },
  {
   "cell_type": "code",
   "execution_count": 25,
   "id": "2fb089c8",
   "metadata": {},
   "outputs": [
    {
     "data": {
      "text/html": [
       "<div>\n",
       "<style scoped>\n",
       "    .dataframe tbody tr th:only-of-type {\n",
       "        vertical-align: middle;\n",
       "    }\n",
       "\n",
       "    .dataframe tbody tr th {\n",
       "        vertical-align: top;\n",
       "    }\n",
       "\n",
       "    .dataframe thead th {\n",
       "        text-align: right;\n",
       "    }\n",
       "</style>\n",
       "<table border=\"1\" class=\"dataframe\">\n",
       "  <thead>\n",
       "    <tr style=\"text-align: right;\">\n",
       "      <th></th>\n",
       "      <th>State</th>\n",
       "      <th>Month</th>\n",
       "      <th>QHP Enrolled</th>\n",
       "      <th>Medicaid renewed</th>\n",
       "      <th>Medicaid terminated</th>\n",
       "      <th>Expansion</th>\n",
       "    </tr>\n",
       "  </thead>\n",
       "  <tbody>\n",
       "    <tr>\n",
       "      <th>0</th>\n",
       "      <td>AL</td>\n",
       "      <td>April</td>\n",
       "      <td>NR</td>\n",
       "      <td>-</td>\n",
       "      <td>-</td>\n",
       "      <td>False</td>\n",
       "    </tr>\n",
       "    <tr>\n",
       "      <th>1</th>\n",
       "      <td>AK</td>\n",
       "      <td>April</td>\n",
       "      <td>NR</td>\n",
       "      <td>-</td>\n",
       "      <td>-</td>\n",
       "      <td>True</td>\n",
       "    </tr>\n",
       "    <tr>\n",
       "      <th>2</th>\n",
       "      <td>AZ</td>\n",
       "      <td>April</td>\n",
       "      <td>3829</td>\n",
       "      <td>162693</td>\n",
       "      <td>19635</td>\n",
       "      <td>True</td>\n",
       "    </tr>\n",
       "    <tr>\n",
       "      <th>3</th>\n",
       "      <td>AR</td>\n",
       "      <td>April</td>\n",
       "      <td>2674</td>\n",
       "      <td>61236</td>\n",
       "      <td>62711</td>\n",
       "      <td>True</td>\n",
       "    </tr>\n",
       "    <tr>\n",
       "      <th>4</th>\n",
       "      <td>DE</td>\n",
       "      <td>April</td>\n",
       "      <td>NR</td>\n",
       "      <td>-</td>\n",
       "      <td>-</td>\n",
       "      <td>True</td>\n",
       "    </tr>\n",
       "  </tbody>\n",
       "</table>\n",
       "</div>"
      ],
      "text/plain": [
       "  State  Month QHP Enrolled Medicaid renewed Medicaid terminated  Expansion\n",
       "0    AL  April           NR                -                   -      False\n",
       "1    AK  April           NR                -                   -       True\n",
       "2    AZ  April         3829           162693               19635       True\n",
       "3    AR  April         2674            61236               62711       True\n",
       "4    DE  April           NR                -                   -       True"
      ]
     },
     "execution_count": 25,
     "metadata": {},
     "output_type": "execute_result"
    }
   ],
   "source": [
    "unwinding = new_marketplace_enrollments.merge(medicaid23, on = ['State', 'Month'])\n",
    "unwinding.head()"
   ]
  },
  {
   "cell_type": "markdown",
   "id": "921c7c3d",
   "metadata": {},
   "source": [
    "### Step 6.a"
   ]
  },
  {
   "cell_type": "markdown",
   "id": "ae9c9190",
   "metadata": {},
   "source": [
    "The merged dataframe must now be further cleaned and transformed before it is ready for analysis.\n",
    "\n",
    "First, values in \"Medicaid renewed\", \"Medicaid terminated\", and \"QHP Enrolled\" must be converted from strings to numeric values. This will also change all dashes and \"NR\" (\"Not Reporting\") values to NaN."
   ]
  },
  {
   "cell_type": "code",
   "execution_count": 26,
   "id": "ccd7ae09",
   "metadata": {},
   "outputs": [
    {
     "data": {
      "text/html": [
       "<div>\n",
       "<style scoped>\n",
       "    .dataframe tbody tr th:only-of-type {\n",
       "        vertical-align: middle;\n",
       "    }\n",
       "\n",
       "    .dataframe tbody tr th {\n",
       "        vertical-align: top;\n",
       "    }\n",
       "\n",
       "    .dataframe thead th {\n",
       "        text-align: right;\n",
       "    }\n",
       "</style>\n",
       "<table border=\"1\" class=\"dataframe\">\n",
       "  <thead>\n",
       "    <tr style=\"text-align: right;\">\n",
       "      <th></th>\n",
       "      <th>State</th>\n",
       "      <th>Month</th>\n",
       "      <th>QHP Enrolled</th>\n",
       "      <th>Medicaid renewed</th>\n",
       "      <th>Medicaid terminated</th>\n",
       "      <th>Expansion</th>\n",
       "    </tr>\n",
       "  </thead>\n",
       "  <tbody>\n",
       "    <tr>\n",
       "      <th>0</th>\n",
       "      <td>AL</td>\n",
       "      <td>April</td>\n",
       "      <td>NaN</td>\n",
       "      <td>NaN</td>\n",
       "      <td>NaN</td>\n",
       "      <td>False</td>\n",
       "    </tr>\n",
       "    <tr>\n",
       "      <th>1</th>\n",
       "      <td>AK</td>\n",
       "      <td>April</td>\n",
       "      <td>NaN</td>\n",
       "      <td>NaN</td>\n",
       "      <td>NaN</td>\n",
       "      <td>True</td>\n",
       "    </tr>\n",
       "    <tr>\n",
       "      <th>2</th>\n",
       "      <td>AZ</td>\n",
       "      <td>April</td>\n",
       "      <td>3829.0</td>\n",
       "      <td>162693.0</td>\n",
       "      <td>19635.0</td>\n",
       "      <td>True</td>\n",
       "    </tr>\n",
       "    <tr>\n",
       "      <th>3</th>\n",
       "      <td>AR</td>\n",
       "      <td>April</td>\n",
       "      <td>2674.0</td>\n",
       "      <td>61236.0</td>\n",
       "      <td>62711.0</td>\n",
       "      <td>True</td>\n",
       "    </tr>\n",
       "    <tr>\n",
       "      <th>4</th>\n",
       "      <td>DE</td>\n",
       "      <td>April</td>\n",
       "      <td>NaN</td>\n",
       "      <td>NaN</td>\n",
       "      <td>NaN</td>\n",
       "      <td>True</td>\n",
       "    </tr>\n",
       "  </tbody>\n",
       "</table>\n",
       "</div>"
      ],
      "text/plain": [
       "  State  Month  QHP Enrolled  Medicaid renewed  Medicaid terminated  Expansion\n",
       "0    AL  April           NaN               NaN                  NaN      False\n",
       "1    AK  April           NaN               NaN                  NaN       True\n",
       "2    AZ  April        3829.0          162693.0              19635.0       True\n",
       "3    AR  April        2674.0           61236.0              62711.0       True\n",
       "4    DE  April           NaN               NaN                  NaN       True"
      ]
     },
     "execution_count": 26,
     "metadata": {},
     "output_type": "execute_result"
    }
   ],
   "source": [
    "unwinding[['QHP Enrolled', 'Medicaid renewed', 'Medicaid terminated']] = unwinding[['QHP Enrolled', 'Medicaid renewed', 'Medicaid terminated']].apply(pd.to_numeric, errors = 'coerce')\n",
    "unwinding.head()"
   ]
  },
  {
   "cell_type": "markdown",
   "id": "c8698975",
   "metadata": {},
   "source": [
    "### Step 6.b"
   ]
  },
  {
   "cell_type": "markdown",
   "id": "b57fc07c",
   "metadata": {},
   "source": [
    "The value for coverage gap must now be calculated and added this to the dataframe as a column. This value represents the dependent variable of this research's hypothesis."
   ]
  },
  {
   "cell_type": "code",
   "execution_count": 27,
   "id": "0f068273",
   "metadata": {},
   "outputs": [
    {
     "data": {
      "text/html": [
       "<div>\n",
       "<style scoped>\n",
       "    .dataframe tbody tr th:only-of-type {\n",
       "        vertical-align: middle;\n",
       "    }\n",
       "\n",
       "    .dataframe tbody tr th {\n",
       "        vertical-align: top;\n",
       "    }\n",
       "\n",
       "    .dataframe thead th {\n",
       "        text-align: right;\n",
       "    }\n",
       "</style>\n",
       "<table border=\"1\" class=\"dataframe\">\n",
       "  <thead>\n",
       "    <tr style=\"text-align: right;\">\n",
       "      <th></th>\n",
       "      <th>State</th>\n",
       "      <th>Month</th>\n",
       "      <th>QHP Enrolled</th>\n",
       "      <th>Medicaid renewed</th>\n",
       "      <th>Medicaid terminated</th>\n",
       "      <th>Expansion</th>\n",
       "      <th>Coverage gap</th>\n",
       "    </tr>\n",
       "  </thead>\n",
       "  <tbody>\n",
       "    <tr>\n",
       "      <th>0</th>\n",
       "      <td>AL</td>\n",
       "      <td>April</td>\n",
       "      <td>NaN</td>\n",
       "      <td>NaN</td>\n",
       "      <td>NaN</td>\n",
       "      <td>False</td>\n",
       "      <td>NaN</td>\n",
       "    </tr>\n",
       "    <tr>\n",
       "      <th>1</th>\n",
       "      <td>AK</td>\n",
       "      <td>April</td>\n",
       "      <td>NaN</td>\n",
       "      <td>NaN</td>\n",
       "      <td>NaN</td>\n",
       "      <td>True</td>\n",
       "      <td>NaN</td>\n",
       "    </tr>\n",
       "    <tr>\n",
       "      <th>2</th>\n",
       "      <td>AZ</td>\n",
       "      <td>April</td>\n",
       "      <td>3829.0</td>\n",
       "      <td>162693.0</td>\n",
       "      <td>19635.0</td>\n",
       "      <td>True</td>\n",
       "      <td>-139229.0</td>\n",
       "    </tr>\n",
       "    <tr>\n",
       "      <th>3</th>\n",
       "      <td>AR</td>\n",
       "      <td>April</td>\n",
       "      <td>2674.0</td>\n",
       "      <td>61236.0</td>\n",
       "      <td>62711.0</td>\n",
       "      <td>True</td>\n",
       "      <td>4149.0</td>\n",
       "    </tr>\n",
       "    <tr>\n",
       "      <th>4</th>\n",
       "      <td>DE</td>\n",
       "      <td>April</td>\n",
       "      <td>NaN</td>\n",
       "      <td>NaN</td>\n",
       "      <td>NaN</td>\n",
       "      <td>True</td>\n",
       "      <td>NaN</td>\n",
       "    </tr>\n",
       "  </tbody>\n",
       "</table>\n",
       "</div>"
      ],
      "text/plain": [
       "  State  Month  QHP Enrolled  Medicaid renewed  Medicaid terminated  \\\n",
       "0    AL  April           NaN               NaN                  NaN   \n",
       "1    AK  April           NaN               NaN                  NaN   \n",
       "2    AZ  April        3829.0          162693.0              19635.0   \n",
       "3    AR  April        2674.0           61236.0              62711.0   \n",
       "4    DE  April           NaN               NaN                  NaN   \n",
       "\n",
       "   Expansion  Coverage gap  \n",
       "0      False           NaN  \n",
       "1       True           NaN  \n",
       "2       True     -139229.0  \n",
       "3       True        4149.0  \n",
       "4       True           NaN  "
      ]
     },
     "execution_count": 27,
     "metadata": {},
     "output_type": "execute_result"
    }
   ],
   "source": [
    "coverage_gap = unwinding['Medicaid terminated'] - unwinding['Medicaid renewed'] + unwinding['QHP Enrolled']\n",
    "unwinding['Coverage gap'] = coverage_gap\n",
    "unwinding.head()"
   ]
  },
  {
   "cell_type": "markdown",
   "id": "395d2599",
   "metadata": {},
   "source": [
    "### Step 6.c"
   ]
  },
  {
   "cell_type": "markdown",
   "id": "eef53e3d",
   "metadata": {},
   "source": [
    "Only the 33 states that share a data source for QHP enrollments (HealthCare.gov) will be included in this analysis. The remaining states will be removed from the dataframe as to not dilute the findings."
   ]
  },
  {
   "cell_type": "code",
   "execution_count": 28,
   "id": "b4d7673d",
   "metadata": {},
   "outputs": [
    {
     "data": {
      "text/html": [
       "<div>\n",
       "<style scoped>\n",
       "    .dataframe tbody tr th:only-of-type {\n",
       "        vertical-align: middle;\n",
       "    }\n",
       "\n",
       "    .dataframe tbody tr th {\n",
       "        vertical-align: top;\n",
       "    }\n",
       "\n",
       "    .dataframe thead th {\n",
       "        text-align: right;\n",
       "    }\n",
       "</style>\n",
       "<table border=\"1\" class=\"dataframe\">\n",
       "  <thead>\n",
       "    <tr style=\"text-align: right;\">\n",
       "      <th></th>\n",
       "      <th>State</th>\n",
       "      <th>Month</th>\n",
       "      <th>QHP Enrolled</th>\n",
       "      <th>Medicaid renewed</th>\n",
       "      <th>Medicaid terminated</th>\n",
       "      <th>Expansion</th>\n",
       "      <th>Coverage gap</th>\n",
       "    </tr>\n",
       "  </thead>\n",
       "  <tbody>\n",
       "    <tr>\n",
       "      <th>0</th>\n",
       "      <td>AL</td>\n",
       "      <td>April</td>\n",
       "      <td>NaN</td>\n",
       "      <td>NaN</td>\n",
       "      <td>NaN</td>\n",
       "      <td>False</td>\n",
       "      <td>NaN</td>\n",
       "    </tr>\n",
       "    <tr>\n",
       "      <th>1</th>\n",
       "      <td>AK</td>\n",
       "      <td>April</td>\n",
       "      <td>NaN</td>\n",
       "      <td>NaN</td>\n",
       "      <td>NaN</td>\n",
       "      <td>True</td>\n",
       "      <td>NaN</td>\n",
       "    </tr>\n",
       "    <tr>\n",
       "      <th>2</th>\n",
       "      <td>AZ</td>\n",
       "      <td>April</td>\n",
       "      <td>3829.0</td>\n",
       "      <td>162693.0</td>\n",
       "      <td>19635.0</td>\n",
       "      <td>True</td>\n",
       "      <td>-139229.0</td>\n",
       "    </tr>\n",
       "    <tr>\n",
       "      <th>3</th>\n",
       "      <td>AR</td>\n",
       "      <td>April</td>\n",
       "      <td>2674.0</td>\n",
       "      <td>61236.0</td>\n",
       "      <td>62711.0</td>\n",
       "      <td>True</td>\n",
       "      <td>4149.0</td>\n",
       "    </tr>\n",
       "    <tr>\n",
       "      <th>4</th>\n",
       "      <td>DE</td>\n",
       "      <td>April</td>\n",
       "      <td>NaN</td>\n",
       "      <td>NaN</td>\n",
       "      <td>NaN</td>\n",
       "      <td>True</td>\n",
       "      <td>NaN</td>\n",
       "    </tr>\n",
       "  </tbody>\n",
       "</table>\n",
       "</div>"
      ],
      "text/plain": [
       "  State  Month  QHP Enrolled  Medicaid renewed  Medicaid terminated  \\\n",
       "0    AL  April           NaN               NaN                  NaN   \n",
       "1    AK  April           NaN               NaN                  NaN   \n",
       "2    AZ  April        3829.0          162693.0              19635.0   \n",
       "3    AR  April        2674.0           61236.0              62711.0   \n",
       "4    DE  April           NaN               NaN                  NaN   \n",
       "\n",
       "   Expansion  Coverage gap  \n",
       "0      False           NaN  \n",
       "1       True           NaN  \n",
       "2       True     -139229.0  \n",
       "3       True        4149.0  \n",
       "4       True           NaN  "
      ]
     },
     "execution_count": 28,
     "metadata": {},
     "output_type": "execute_result"
    }
   ],
   "source": [
    "unwinding_33 = unwinding[~(unwinding['State'].isin(['California', 'Colorado', 'Idaho', 'Kentucky', 'Maine', 'Maryland', 'Massachusetts', 'Minnesota', 'Nevada', 'New Jersey', 'New Mexico', 'New York', 'Pennsylvania', 'Rhode Island', 'Vermont', 'Virginia', 'Washington']))]\n",
    "unwinding_33.head()"
   ]
  },
  {
   "cell_type": "markdown",
   "id": "d708dcb4",
   "metadata": {},
   "source": [
    "## Exploratory Analysis"
   ]
  },
  {
   "cell_type": "code",
   "execution_count": 29,
   "id": "1f3dd754",
   "metadata": {},
   "outputs": [],
   "source": [
    "import seaborn as sns\n",
    "import matplotlib.pyplot as plt"
   ]
  },
  {
   "cell_type": "markdown",
   "id": "047083c7",
   "metadata": {},
   "source": [
    "### 1. May people be experiencing a gap in health coverage?"
   ]
  },
  {
   "cell_type": "markdown",
   "id": "dd005906",
   "metadata": {},
   "source": [
    "I start by creating a new dataframe narrowing in on possible coverage gaps greater than 0 (indicating the presence of a possible coverage gap). "
   ]
  },
  {
   "cell_type": "code",
   "execution_count": 30,
   "id": "9d08167d",
   "metadata": {},
   "outputs": [
    {
     "data": {
      "text/html": [
       "<div>\n",
       "<style scoped>\n",
       "    .dataframe tbody tr th:only-of-type {\n",
       "        vertical-align: middle;\n",
       "    }\n",
       "\n",
       "    .dataframe tbody tr th {\n",
       "        vertical-align: top;\n",
       "    }\n",
       "\n",
       "    .dataframe thead th {\n",
       "        text-align: right;\n",
       "    }\n",
       "</style>\n",
       "<table border=\"1\" class=\"dataframe\">\n",
       "  <thead>\n",
       "    <tr style=\"text-align: right;\">\n",
       "      <th></th>\n",
       "      <th>State</th>\n",
       "      <th>Month</th>\n",
       "      <th>QHP Enrolled</th>\n",
       "      <th>Medicaid renewed</th>\n",
       "      <th>Medicaid terminated</th>\n",
       "      <th>Expansion</th>\n",
       "      <th>Coverage gap</th>\n",
       "    </tr>\n",
       "  </thead>\n",
       "  <tbody>\n",
       "    <tr>\n",
       "      <th>3</th>\n",
       "      <td>AR</td>\n",
       "      <td>April</td>\n",
       "      <td>2674.0</td>\n",
       "      <td>61236.0</td>\n",
       "      <td>62711.0</td>\n",
       "      <td>True</td>\n",
       "      <td>4149.0</td>\n",
       "    </tr>\n",
       "    <tr>\n",
       "      <th>5</th>\n",
       "      <td>FL</td>\n",
       "      <td>April</td>\n",
       "      <td>21538.0</td>\n",
       "      <td>211895.0</td>\n",
       "      <td>249427.0</td>\n",
       "      <td>False</td>\n",
       "      <td>59070.0</td>\n",
       "    </tr>\n",
       "    <tr>\n",
       "      <th>10</th>\n",
       "      <td>IA</td>\n",
       "      <td>April</td>\n",
       "      <td>891.0</td>\n",
       "      <td>43315.0</td>\n",
       "      <td>44604.0</td>\n",
       "      <td>True</td>\n",
       "      <td>2180.0</td>\n",
       "    </tr>\n",
       "    <tr>\n",
       "      <th>11</th>\n",
       "      <td>KS</td>\n",
       "      <td>April</td>\n",
       "      <td>907.0</td>\n",
       "      <td>13994.0</td>\n",
       "      <td>49508.0</td>\n",
       "      <td>False</td>\n",
       "      <td>36421.0</td>\n",
       "    </tr>\n",
       "    <tr>\n",
       "      <th>18</th>\n",
       "      <td>NH</td>\n",
       "      <td>April</td>\n",
       "      <td>1131.0</td>\n",
       "      <td>11093.0</td>\n",
       "      <td>11258.0</td>\n",
       "      <td>True</td>\n",
       "      <td>1296.0</td>\n",
       "    </tr>\n",
       "  </tbody>\n",
       "</table>\n",
       "</div>"
      ],
      "text/plain": [
       "   State  Month  QHP Enrolled  Medicaid renewed  Medicaid terminated  \\\n",
       "3     AR  April        2674.0           61236.0              62711.0   \n",
       "5     FL  April       21538.0          211895.0             249427.0   \n",
       "10    IA  April         891.0           43315.0              44604.0   \n",
       "11    KS  April         907.0           13994.0              49508.0   \n",
       "18    NH  April        1131.0           11093.0              11258.0   \n",
       "\n",
       "    Expansion  Coverage gap  \n",
       "3        True        4149.0  \n",
       "5       False       59070.0  \n",
       "10       True        2180.0  \n",
       "11      False       36421.0  \n",
       "18       True        1296.0  "
      ]
     },
     "execution_count": 30,
     "metadata": {},
     "output_type": "execute_result"
    }
   ],
   "source": [
    "coverage_gap = unwinding_33[(unwinding_33['Coverage gap'] > 0)]\n",
    "coverage_gap.head()"
   ]
  },
  {
   "cell_type": "markdown",
   "id": "cd590974",
   "metadata": {},
   "source": [
    "A histogram is generated to show the frequency of possible coverage gaps at different rates (across states and months)."
   ]
  },
  {
   "cell_type": "code",
   "execution_count": 31,
   "id": "78783966",
   "metadata": {},
   "outputs": [
    {
     "data": {
      "image/png": "[encoded data removed]",
      "text/plain": [
       "<Figure size 640x480 with 1 Axes>"
      ]
     },
     "metadata": {},
     "output_type": "display_data"
    }
   ],
   "source": [
    "fig = plt.figure()\n",
    "\n",
    "axes1 = fig.add_subplot(1,1,1)\n",
    "\n",
    "axes1.hist(data = coverage_gap, x = 'Coverage gap')\n",
    "\n",
    "axes1.set_title('Histogram of possible coverage gap occurrence')\n",
    "axes1.set_ylabel('Frequency across states and months')\n",
    "axes1.set_xlabel('Number of people possibly experiencing a coverage gap')\n",
    "\n",
    "plt.show()"
   ]
  },
  {
   "cell_type": "markdown",
   "id": "47af7a55",
   "metadata": {},
   "source": [
    "### 2. How many people may be impacted by a gap in health coverage? "
   ]
  },
  {
   "cell_type": "markdown",
   "id": "b64251d6",
   "metadata": {},
   "source": [
    "Summing the total of values in the \"Coverage gap\" column of the dataframe directly answers this question:"
   ]
  },
  {
   "cell_type": "code",
   "execution_count": 32,
   "id": "91da78fb",
   "metadata": {},
   "outputs": [
    {
     "name": "stdout",
     "output_type": "stream",
     "text": [
      "1753977.0\n"
     ]
    }
   ],
   "source": [
    "print(coverage_gap['Coverage gap'].sum())"
   ]
  },
  {
   "cell_type": "markdown",
   "id": "504c8bcf",
   "metadata": {},
   "source": [
    "A scatterplot helps visualize the breakdown of that occurrence rate accross months in the reporting period:"
   ]
  },
  {
   "cell_type": "code",
   "execution_count": 33,
   "id": "686e9bd0",
   "metadata": {},
   "outputs": [
    {
     "data": {
      "image/png": "[encoded data removed]",
      "text/plain": [
       "<Figure size 640x480 with 1 Axes>"
      ]
     },
     "metadata": {},
     "output_type": "display_data"
    }
   ],
   "source": [
    "ax = sns.scatterplot(x = coverage_gap['Month'], y = coverage_gap['Coverage gap'])\n",
    "ax.set_title('Scatterplot: Possible coverage gaps experienced by month in different states')\n",
    "ax.set_xlabel('Month')\n",
    "ax.set_ylabel('Possible coverage gaps')\n",
    "plt.xticks(rotation = 45)\n",
    "plt.show()"
   ]
  },
  {
   "cell_type": "markdown",
   "id": "d381ba18",
   "metadata": {},
   "source": [
    "### 3. For how many months in the reporting period are coverage gaps possibly occurring?"
   ]
  },
  {
   "cell_type": "markdown",
   "id": "e0c01ac8",
   "metadata": {},
   "source": [
    "The describe function is paired with groupby to generate a dataframe showing the number of times a state occurs in the coverage gap dataset, representing the number of months coverage gaps may have occurred in each state."
   ]
  },
  {
   "cell_type": "code",
   "execution_count": 34,
   "id": "722dcf35",
   "metadata": {},
   "outputs": [
    {
     "name": "stdout",
     "output_type": "stream",
     "text": [
      "State\n",
      "AK    5\n",
      "AR    4\n",
      "FL    4\n",
      "GA    8\n",
      "IA    2\n",
      "KS    1\n",
      "MO    1\n",
      "MS    1\n",
      "MT    8\n",
      "ND    4\n",
      "NH    4\n",
      "OK    7\n",
      "SC    2\n",
      "SD    8\n",
      "TX    7\n",
      "UT    9\n",
      "WI    3\n",
      "WY    1\n",
      "Name: Month, dtype: int64\n"
     ]
    }
   ],
   "source": [
    "print(coverage_gap.groupby('State').Month.count())"
   ]
  },
  {
   "cell_type": "markdown",
   "id": "03ab33ac",
   "metadata": {},
   "source": [
    "### 4. In what states may people be experiencing a gap in health coverage?"
   ]
  },
  {
   "cell_type": "markdown",
   "id": "5d793169",
   "metadata": {},
   "source": [
    "I then apply this dataframe to a bar plot using the seaborn objects interface."
   ]
  },
  {
   "cell_type": "code",
   "execution_count": 35,
   "id": "e647af7c",
   "metadata": {},
   "outputs": [
    {
     "data": {
      "image/png": "[encoded data removed]",
      "text/plain": [
       "<seaborn._core.plot.Plot at 0x12dcaa290>"
      ]
     },
     "execution_count": 35,
     "metadata": {
      "image/png": {
       "height": 378.25,
       "width": 625.175
      }
     },
     "output_type": "execute_result"
    }
   ],
   "source": [
    "import seaborn.objects as so\n",
    "\n",
    "so.Plot(coverage_gap, x='State', y='Coverage gap', color='Month').add(so.Bar())"
   ]
  },
  {
   "cell_type": "markdown",
   "id": "c799b205",
   "metadata": {},
   "source": [
    "## Data Modeling & Analysis: What role does a state's Medicaid expansion status play in coverage gap occurrence?"
   ]
  },
  {
   "cell_type": "markdown",
   "id": "9333ebb3",
   "metadata": {},
   "source": [
    "### 1. All state data"
   ]
  },
  {
   "cell_type": "markdown",
   "id": "0c6b8ce9",
   "metadata": {},
   "source": [
    "#### Figure 1: Histograms showing possible coverage gaps in states that have and have not expanded Medicaid eligibility criteria"
   ]
  },
  {
   "cell_type": "code",
   "execution_count": 36,
   "id": "673d5f34",
   "metadata": {},
   "outputs": [
    {
     "name": "stderr",
     "output_type": "stream",
     "text": [
      "/Users/zoe/anaconda3/lib/python3.11/site-packages/seaborn/axisgrid.py:118: UserWarning: The figure layout has changed to tight\n",
      "  self._figure.tight_layout(*args, **kwargs)\n"
     ]
    },
    {
     "data": {
      "image/png": "[encoded data removed]",
      "text/plain": [
       "<Figure size 1000x500 with 2 Axes>"
      ]
     },
     "metadata": {},
     "output_type": "display_data"
    }
   ],
   "source": [
    "fig = sns.displot(data = unwinding_33, col = 'Expansion', x = 'Coverage gap', kind = 'hist')\n",
    "\n",
    "fig.set_axis_labels(x_var = 'Possible coverage gaps', y_var = 'Count by state and month')\n",
    "fig.set_xticklabels(rotation = 45)\n",
    "\n",
    "plt.show()"
   ]
  },
  {
   "cell_type": "markdown",
   "id": "c960845f",
   "metadata": {},
   "source": [
    "### Step 1.a"
   ]
  },
  {
   "cell_type": "markdown",
   "id": "71905549",
   "metadata": {},
   "source": [
    "Because the independent variable is a discrete, binary value of True or False and the dependent variable is a continuous, numeric variable, I import the scipy library to run an independent samples t test."
   ]
  },
  {
   "cell_type": "code",
   "execution_count": 37,
   "id": "9aa1278e",
   "metadata": {},
   "outputs": [],
   "source": [
    "from scipy import stats"
   ]
  },
  {
   "cell_type": "markdown",
   "id": "2a01f8da",
   "metadata": {},
   "source": [
    "### Step 1.b"
   ]
  },
  {
   "cell_type": "markdown",
   "id": "f1cafc4e",
   "metadata": {},
   "source": [
    "Two new subsets are created from the larger dataframe unwinding_33, distinguished by whether or not states in each have or have not expanded Medicaid eligibility criteria (the independent variable). "
   ]
  },
  {
   "cell_type": "code",
   "execution_count": 38,
   "id": "cbaed40f",
   "metadata": {},
   "outputs": [],
   "source": [
    "has_expanded = unwinding_33[(unwinding['Expansion'] == True)]\n",
    "has_not_expanded = unwinding_33[(unwinding['Expansion'] == False)]"
   ]
  },
  {
   "cell_type": "markdown",
   "id": "dbf8afd0",
   "metadata": {},
   "source": [
    "### Step 1.c"
   ]
  },
  {
   "cell_type": "markdown",
   "id": "be95cbbc",
   "metadata": {},
   "source": [
    "To confirm normal distribution, a Kolmogorov-Smirnov test of normality is run. The Kolmogorov-Smirnov test is chosen due to the size of the datasets being tested, which are greater than 50 samples."
   ]
  },
  {
   "cell_type": "code",
   "execution_count": 39,
   "id": "74811a74",
   "metadata": {},
   "outputs": [
    {
     "data": {
      "text/plain": [
       "KstestResult(statistic=0.24449383713881592, pvalue=0.0005278611870547787, statistic_location=19333.0, statistic_sign=1)"
      ]
     },
     "execution_count": 39,
     "metadata": {},
     "output_type": "execute_result"
    }
   ],
   "source": [
    "from scipy.stats import kstest\n",
    "\n",
    "kstest(has_expanded['Coverage gap'], has_not_expanded['Coverage gap'])"
   ]
  },
  {
   "cell_type": "markdown",
   "id": "5c1cd905",
   "metadata": {},
   "source": [
    "Because the p value is less than .05, it may be concluded that both datasets are normally distributed and the null hypothesis may be accepted."
   ]
  },
  {
   "cell_type": "markdown",
   "id": "c7a391a7",
   "metadata": {},
   "source": [
    "### Step 1.d"
   ]
  },
  {
   "cell_type": "markdown",
   "id": "b7efd9fb",
   "metadata": {},
   "source": [
    "A Levene's test for equality of variances is run to confirm whether or not equal variance can be assumed."
   ]
  },
  {
   "cell_type": "code",
   "execution_count": 40,
   "id": "4760e6a3",
   "metadata": {},
   "outputs": [
    {
     "data": {
      "text/plain": [
       "LeveneResult(statistic=0.06746533754329632, pvalue=0.7952668503841696)"
      ]
     },
     "execution_count": 40,
     "metadata": {},
     "output_type": "execute_result"
    }
   ],
   "source": [
    "res = stats.levene(has_expanded['Coverage gap'].dropna(), has_not_expanded['Coverage gap'].dropna())\n",
    "res"
   ]
  },
  {
   "cell_type": "markdown",
   "id": "c4883645",
   "metadata": {},
   "source": [
    "Because the p value is greater than .05, equal variance may be assumed."
   ]
  },
  {
   "cell_type": "markdown",
   "id": "bc462a15",
   "metadata": {},
   "source": [
    "### Step 1.e"
   ]
  },
  {
   "cell_type": "markdown",
   "id": "862ec54f",
   "metadata": {},
   "source": [
    "Because the datasets have a normal distribution, a parametric Independent One-Sided T Test is run. "
   ]
  },
  {
   "cell_type": "code",
   "execution_count": 41,
   "id": "10222450",
   "metadata": {},
   "outputs": [
    {
     "data": {
      "text/plain": [
       "TtestResult(statistic=4.709335882404571, pvalue=2.013406810226034e-06, df=263.0)"
      ]
     },
     "execution_count": 41,
     "metadata": {},
     "output_type": "execute_result"
    }
   ],
   "source": [
    "sample1 = has_expanded['Coverage gap']\n",
    "sample2 = has_not_expanded['Coverage gap']\n",
    "\n",
    "stats.ttest_ind(sample2, sample1, nan_policy = 'omit', alternative = 'greater', equal_var = True)"
   ]
  },
  {
   "cell_type": "markdown",
   "id": "eaff3500",
   "metadata": {},
   "source": [
    "The p value of .0000002013 is statistically significant, supporting the research hypothesis that more coverage gaps are possibly occurring in states that have not expanded Medicaid than in states that haven't. \n",
    "\n",
    "For comparative purposes, the same test will be run without assuming equal variance."
   ]
  },
  {
   "cell_type": "code",
   "execution_count": 42,
   "id": "dc7bf568",
   "metadata": {},
   "outputs": [
    {
     "data": {
      "text/plain": [
       "TtestResult(statistic=4.537064202580914, pvalue=5.6769049332451566e-06, df=155.3040936850916)"
      ]
     },
     "execution_count": 42,
     "metadata": {},
     "output_type": "execute_result"
    }
   ],
   "source": [
    "sample1 = has_expanded['Coverage gap']\n",
    "sample2 = has_not_expanded['Coverage gap']\n",
    "\n",
    "stats.ttest_ind(sample2, sample1, nan_policy = 'omit', alternative = 'greater', equal_var = False)"
   ]
  },
  {
   "cell_type": "markdown",
   "id": "8464086c",
   "metadata": {},
   "source": [
    "The p value of .00000067 is also statistically significant even without assuming equal variance."
   ]
  },
  {
   "cell_type": "markdown",
   "id": "079c3b17",
   "metadata": {},
   "source": [
    "### Step 1.f"
   ]
  },
  {
   "cell_type": "markdown",
   "id": "6ac682fe",
   "metadata": {},
   "source": [
    "Group statistics for possible coverage gaps accross all states will now be generated to include the mean, N, standard deviation, and standard error mean."
   ]
  },
  {
   "cell_type": "code",
   "execution_count": 43,
   "id": "243ca339",
   "metadata": {},
   "outputs": [
    {
     "data": {
      "text/plain": [
       "-33214.15730337079"
      ]
     },
     "execution_count": 43,
     "metadata": {},
     "output_type": "execute_result"
    }
   ],
   "source": [
    "has_expanded['Coverage gap'].mean()"
   ]
  },
  {
   "cell_type": "code",
   "execution_count": 44,
   "id": "7c605ace",
   "metadata": {},
   "outputs": [
    {
     "data": {
      "text/plain": [
       "-1506.528735632184"
      ]
     },
     "execution_count": 44,
     "metadata": {},
     "output_type": "execute_result"
    }
   ],
   "source": [
    "has_not_expanded['Coverage gap'].mean()"
   ]
  },
  {
   "cell_type": "code",
   "execution_count": 45,
   "id": "d0dcfbaa",
   "metadata": {},
   "outputs": [
    {
     "data": {
      "text/plain": [
       "178"
      ]
     },
     "execution_count": 45,
     "metadata": {},
     "output_type": "execute_result"
    }
   ],
   "source": [
    "has_expanded['Coverage gap'].count()"
   ]
  },
  {
   "cell_type": "code",
   "execution_count": 46,
   "id": "0c562067",
   "metadata": {},
   "outputs": [
    {
     "data": {
      "text/plain": [
       "87"
      ]
     },
     "execution_count": 46,
     "metadata": {},
     "output_type": "execute_result"
    }
   ],
   "source": [
    "has_not_expanded['Coverage gap'].count()"
   ]
  },
  {
   "cell_type": "code",
   "execution_count": 47,
   "id": "b1cf9daa",
   "metadata": {},
   "outputs": [],
   "source": [
    "import numpy as np"
   ]
  },
  {
   "cell_type": "code",
   "execution_count": 48,
   "id": "431d6ec8",
   "metadata": {},
   "outputs": [
    {
     "data": {
      "text/plain": [
       "49405.12413443873"
      ]
     },
     "execution_count": 48,
     "metadata": {},
     "output_type": "execute_result"
    }
   ],
   "source": [
    "np.nanstd(has_expanded['Coverage gap'])"
   ]
  },
  {
   "cell_type": "code",
   "execution_count": 49,
   "id": "1c5cb7a9",
   "metadata": {},
   "outputs": [
    {
     "data": {
      "text/plain": [
       "54902.658365142204"
      ]
     },
     "execution_count": 49,
     "metadata": {},
     "output_type": "execute_result"
    }
   ],
   "source": [
    "np.nanstd(has_not_expanded['Coverage gap'])"
   ]
  },
  {
   "cell_type": "code",
   "execution_count": 50,
   "id": "e013fb1d",
   "metadata": {},
   "outputs": [
    {
     "data": {
      "text/plain": [
       "3713.5165318637564"
      ]
     },
     "execution_count": 50,
     "metadata": {},
     "output_type": "execute_result"
    }
   ],
   "source": [
    "has_expanded['Coverage gap'].sem(skipna = True)"
   ]
  },
  {
   "cell_type": "code",
   "execution_count": 51,
   "id": "4493676b",
   "metadata": {},
   "outputs": [
    {
     "data": {
      "text/plain": [
       "5920.305907754239"
      ]
     },
     "execution_count": 51,
     "metadata": {},
     "output_type": "execute_result"
    }
   ],
   "source": [
    "has_not_expanded['Coverage gap'].sem(skipna = True)"
   ]
  },
  {
   "cell_type": "markdown",
   "id": "cf60c179",
   "metadata": {},
   "source": [
    "#### Figure 2: Box plot showing the difference of medians, quartiles, and outliers in possible coverage gaps grouped by the independent variable, Medicaid eligibility expansion."
   ]
  },
  {
   "cell_type": "code",
   "execution_count": 52,
   "id": "8f5194fc",
   "metadata": {},
   "outputs": [
    {
     "data": {
      "image/png": "[encoded data removed]",
      "text/plain": [
       "<Figure size 640x480 with 1 Axes>"
      ]
     },
     "metadata": {},
     "output_type": "display_data"
    }
   ],
   "source": [
    "boxplot = unwinding_33.boxplot(column = ['Coverage gap'], by = 'Expansion')"
   ]
  },
  {
   "cell_type": "markdown",
   "id": "4e892f7b",
   "metadata": {},
   "source": [
    "### 2. Biggest possible coverage gaps"
   ]
  },
  {
   "cell_type": "markdown",
   "id": "42c0e269",
   "metadata": {},
   "source": [
    "#### Figure 3. Histogram showing biggest possible coverage gaps in states that have and have not expanded Medicaid eligibility criteria"
   ]
  },
  {
   "cell_type": "code",
   "execution_count": 53,
   "id": "795a70b7",
   "metadata": {},
   "outputs": [],
   "source": [
    "biggest_unwinding_33 = unwinding_33.groupby('State').max('Coverage gap')"
   ]
  },
  {
   "cell_type": "code",
   "execution_count": 54,
   "id": "7cdd9a44",
   "metadata": {},
   "outputs": [
    {
     "name": "stderr",
     "output_type": "stream",
     "text": [
      "/Users/zoe/anaconda3/lib/python3.11/site-packages/seaborn/axisgrid.py:118: UserWarning: The figure layout has changed to tight\n",
      "  self._figure.tight_layout(*args, **kwargs)\n"
     ]
    },
    {
     "data": {
      "image/png": "[encoded data removed]",
      "text/plain": [
       "<Figure size 1000x500 with 2 Axes>"
      ]
     },
     "metadata": {},
     "output_type": "display_data"
    }
   ],
   "source": [
    "fig = sns.displot(data = biggest_unwinding_33, col = 'Expansion', x = 'Coverage gap', kind = 'hist')\n",
    "\n",
    "fig.set_axis_labels(x_var = 'Possible coverage gaps', y_var = 'Count by state and month')\n",
    "\n",
    "plt.show()"
   ]
  },
  {
   "cell_type": "markdown",
   "id": "ad9951dc",
   "metadata": {},
   "source": [
    "### Step 2.a"
   ]
  },
  {
   "cell_type": "markdown",
   "id": "84d135c5",
   "metadata": {},
   "source": [
    "Because states are conducting unwinding activities at variable paces (resulting in what appear to be large possible coverage gaps in some months and little to none in others), two new subsets account for this variability by narrowing in on only the biggest possible coverage gaps in each state. (In some states, this is still no coverage gaps, represented by numbers in the negatives.)"
   ]
  },
  {
   "cell_type": "code",
   "execution_count": 55,
   "id": "5bdd3648",
   "metadata": {},
   "outputs": [],
   "source": [
    "biggest_has_expanded = has_expanded.groupby('State').max('Coverage gap')\n",
    "biggest_hasnt_expanded = has_not_expanded.groupby('State').max('Coverage gap')"
   ]
  },
  {
   "cell_type": "markdown",
   "id": "ac84f44e",
   "metadata": {},
   "source": [
    "### Step 2.b"
   ]
  },
  {
   "cell_type": "markdown",
   "id": "daa7f631",
   "metadata": {},
   "source": [
    "A Shapiro-Wilk test is run to test for normal distribution. "
   ]
  },
  {
   "cell_type": "code",
   "execution_count": 56,
   "id": "a901d0a0",
   "metadata": {},
   "outputs": [
    {
     "name": "stdout",
     "output_type": "stream",
     "text": [
      "0.8552062511444092 0.0033858853857964277\n",
      "0.7820867300033569 0.005903780926018953\n"
     ]
    }
   ],
   "source": [
    "from scipy.stats import shapiro\n",
    "\n",
    "sample1 = biggest_has_expanded['Coverage gap'].dropna()\n",
    "sample2 = biggest_hasnt_expanded['Coverage gap'].dropna()\n",
    "\n",
    "stat, p = shapiro(sample1)\n",
    "print(stat, p)\n",
    "stat, p = shapiro(sample2)\n",
    "print(stat, p)"
   ]
  },
  {
   "cell_type": "markdown",
   "id": "98abe04b",
   "metadata": {},
   "source": [
    "Because the p values are less than .05, normal distribution can not be assumed for these subsets. "
   ]
  },
  {
   "cell_type": "markdown",
   "id": "9acd6dd6",
   "metadata": {},
   "source": [
    "### Step 2.c"
   ]
  },
  {
   "cell_type": "markdown",
   "id": "833e7d0e",
   "metadata": {},
   "source": [
    "A Levene's test for equality of variances is run to confirm whether or not equal variance can be assumed."
   ]
  },
  {
   "cell_type": "code",
   "execution_count": 57,
   "id": "e2320336",
   "metadata": {},
   "outputs": [
    {
     "data": {
      "text/plain": [
       "LeveneResult(statistic=0.3253523230501764, pvalue=0.5722723340075386)"
      ]
     },
     "execution_count": 57,
     "metadata": {},
     "output_type": "execute_result"
    }
   ],
   "source": [
    "res = stats.levene(biggest_has_expanded['Coverage gap'].dropna(), biggest_hasnt_expanded['Coverage gap'].dropna())\n",
    "res"
   ]
  },
  {
   "cell_type": "markdown",
   "id": "21321950",
   "metadata": {},
   "source": [
    "Because the p value is greater than .05, equal variance may be assumed."
   ]
  },
  {
   "cell_type": "code",
   "execution_count": 89,
   "id": "a632e91c",
   "metadata": {},
   "outputs": [
    {
     "data": {
      "text/html": [
       "<div>\n",
       "<style scoped>\n",
       "    .dataframe tbody tr th:only-of-type {\n",
       "        vertical-align: middle;\n",
       "    }\n",
       "\n",
       "    .dataframe tbody tr th {\n",
       "        vertical-align: top;\n",
       "    }\n",
       "\n",
       "    .dataframe thead th {\n",
       "        text-align: right;\n",
       "    }\n",
       "</style>\n",
       "<table border=\"1\" class=\"dataframe\">\n",
       "  <thead>\n",
       "    <tr style=\"text-align: right;\">\n",
       "      <th></th>\n",
       "      <th>QHP Enrolled</th>\n",
       "      <th>Medicaid renewed</th>\n",
       "      <th>Medicaid terminated</th>\n",
       "      <th>Expansion</th>\n",
       "      <th>Coverage gap</th>\n",
       "    </tr>\n",
       "    <tr>\n",
       "      <th>State</th>\n",
       "      <th></th>\n",
       "      <th></th>\n",
       "      <th></th>\n",
       "      <th></th>\n",
       "      <th></th>\n",
       "    </tr>\n",
       "  </thead>\n",
       "  <tbody>\n",
       "    <tr>\n",
       "      <th>AL</th>\n",
       "      <td>28887.0</td>\n",
       "      <td>88306.0</td>\n",
       "      <td>44832.0</td>\n",
       "      <td>False</td>\n",
       "      <td>-4684.0</td>\n",
       "    </tr>\n",
       "    <tr>\n",
       "      <th>FL</th>\n",
       "      <td>188156.0</td>\n",
       "      <td>303741.0</td>\n",
       "      <td>249427.0</td>\n",
       "      <td>False</td>\n",
       "      <td>116067.0</td>\n",
       "    </tr>\n",
       "    <tr>\n",
       "      <th>GA</th>\n",
       "      <td>61765.0</td>\n",
       "      <td>87708.0</td>\n",
       "      <td>95578.0</td>\n",
       "      <td>False</td>\n",
       "      <td>53408.0</td>\n",
       "    </tr>\n",
       "    <tr>\n",
       "      <th>KS</th>\n",
       "      <td>6756.0</td>\n",
       "      <td>17896.0</td>\n",
       "      <td>49508.0</td>\n",
       "      <td>False</td>\n",
       "      <td>36421.0</td>\n",
       "    </tr>\n",
       "    <tr>\n",
       "      <th>MS</th>\n",
       "      <td>16683.0</td>\n",
       "      <td>37029.0</td>\n",
       "      <td>29460.0</td>\n",
       "      <td>False</td>\n",
       "      <td>3978.0</td>\n",
       "    </tr>\n",
       "    <tr>\n",
       "      <th>NC</th>\n",
       "      <td>65637.0</td>\n",
       "      <td>163456.0</td>\n",
       "      <td>35099.0</td>\n",
       "      <td>False</td>\n",
       "      <td>-28063.0</td>\n",
       "    </tr>\n",
       "    <tr>\n",
       "      <th>SC</th>\n",
       "      <td>52995.0</td>\n",
       "      <td>58558.0</td>\n",
       "      <td>28145.0</td>\n",
       "      <td>False</td>\n",
       "      <td>22582.0</td>\n",
       "    </tr>\n",
       "    <tr>\n",
       "      <th>SD</th>\n",
       "      <td>626.0</td>\n",
       "      <td>6167.0</td>\n",
       "      <td>9715.0</td>\n",
       "      <td>False</td>\n",
       "      <td>3984.0</td>\n",
       "    </tr>\n",
       "    <tr>\n",
       "      <th>TN</th>\n",
       "      <td>27583.0</td>\n",
       "      <td>94940.0</td>\n",
       "      <td>49585.0</td>\n",
       "      <td>False</td>\n",
       "      <td>-4892.0</td>\n",
       "    </tr>\n",
       "    <tr>\n",
       "      <th>TX</th>\n",
       "      <td>154018.0</td>\n",
       "      <td>261791.0</td>\n",
       "      <td>332104.0</td>\n",
       "      <td>False</td>\n",
       "      <td>193449.0</td>\n",
       "    </tr>\n",
       "    <tr>\n",
       "      <th>WI</th>\n",
       "      <td>19398.0</td>\n",
       "      <td>47941.0</td>\n",
       "      <td>43464.0</td>\n",
       "      <td>False</td>\n",
       "      <td>16229.0</td>\n",
       "    </tr>\n",
       "    <tr>\n",
       "      <th>WY</th>\n",
       "      <td>1847.0</td>\n",
       "      <td>3372.0</td>\n",
       "      <td>2786.0</td>\n",
       "      <td>False</td>\n",
       "      <td>1357.0</td>\n",
       "    </tr>\n",
       "  </tbody>\n",
       "</table>\n",
       "</div>"
      ],
      "text/plain": [
       "       QHP Enrolled  Medicaid renewed  Medicaid terminated  Expansion  \\\n",
       "State                                                                   \n",
       "AL          28887.0           88306.0              44832.0      False   \n",
       "FL         188156.0          303741.0             249427.0      False   \n",
       "GA          61765.0           87708.0              95578.0      False   \n",
       "KS           6756.0           17896.0              49508.0      False   \n",
       "MS          16683.0           37029.0              29460.0      False   \n",
       "NC          65637.0          163456.0              35099.0      False   \n",
       "SC          52995.0           58558.0              28145.0      False   \n",
       "SD            626.0            6167.0               9715.0      False   \n",
       "TN          27583.0           94940.0              49585.0      False   \n",
       "TX         154018.0          261791.0             332104.0      False   \n",
       "WI          19398.0           47941.0              43464.0      False   \n",
       "WY           1847.0            3372.0               2786.0      False   \n",
       "\n",
       "       Coverage gap  \n",
       "State                \n",
       "AL          -4684.0  \n",
       "FL         116067.0  \n",
       "GA          53408.0  \n",
       "KS          36421.0  \n",
       "MS           3978.0  \n",
       "NC         -28063.0  \n",
       "SC          22582.0  \n",
       "SD           3984.0  \n",
       "TN          -4892.0  \n",
       "TX         193449.0  \n",
       "WI          16229.0  \n",
       "WY           1357.0  "
      ]
     },
     "execution_count": 89,
     "metadata": {},
     "output_type": "execute_result"
    }
   ],
   "source": [
    "biggest_hasnt_expanded"
   ]
  },
  {
   "cell_type": "code",
   "execution_count": 90,
   "id": "9b8a2427",
   "metadata": {},
   "outputs": [
    {
     "data": {
      "text/html": [
       "<div>\n",
       "<style scoped>\n",
       "    .dataframe tbody tr th:only-of-type {\n",
       "        vertical-align: middle;\n",
       "    }\n",
       "\n",
       "    .dataframe tbody tr th {\n",
       "        vertical-align: top;\n",
       "    }\n",
       "\n",
       "    .dataframe thead th {\n",
       "        text-align: right;\n",
       "    }\n",
       "</style>\n",
       "<table border=\"1\" class=\"dataframe\">\n",
       "  <thead>\n",
       "    <tr style=\"text-align: right;\">\n",
       "      <th></th>\n",
       "      <th>QHP Enrolled</th>\n",
       "      <th>Medicaid renewed</th>\n",
       "      <th>Medicaid terminated</th>\n",
       "      <th>Expansion</th>\n",
       "      <th>Coverage gap</th>\n",
       "    </tr>\n",
       "    <tr>\n",
       "      <th>State</th>\n",
       "      <th></th>\n",
       "      <th></th>\n",
       "      <th></th>\n",
       "      <th></th>\n",
       "      <th></th>\n",
       "    </tr>\n",
       "  </thead>\n",
       "  <tbody>\n",
       "    <tr>\n",
       "      <th>AK</th>\n",
       "      <td>2610.0</td>\n",
       "      <td>6516.0</td>\n",
       "      <td>9919.0</td>\n",
       "      <td>True</td>\n",
       "      <td>3589.0</td>\n",
       "    </tr>\n",
       "    <tr>\n",
       "      <th>AR</th>\n",
       "      <td>17332.0</td>\n",
       "      <td>61236.0</td>\n",
       "      <td>62711.0</td>\n",
       "      <td>True</td>\n",
       "      <td>14421.0</td>\n",
       "    </tr>\n",
       "    <tr>\n",
       "      <th>AZ</th>\n",
       "      <td>27593.0</td>\n",
       "      <td>178491.0</td>\n",
       "      <td>66657.0</td>\n",
       "      <td>True</td>\n",
       "      <td>-81299.0</td>\n",
       "    </tr>\n",
       "    <tr>\n",
       "      <th>DE</th>\n",
       "      <td>3659.0</td>\n",
       "      <td>11926.0</td>\n",
       "      <td>4615.0</td>\n",
       "      <td>True</td>\n",
       "      <td>-2252.0</td>\n",
       "    </tr>\n",
       "    <tr>\n",
       "      <th>HI</th>\n",
       "      <td>2083.0</td>\n",
       "      <td>25625.0</td>\n",
       "      <td>10612.0</td>\n",
       "      <td>True</td>\n",
       "      <td>-10755.0</td>\n",
       "    </tr>\n",
       "    <tr>\n",
       "      <th>IA</th>\n",
       "      <td>9760.0</td>\n",
       "      <td>43315.0</td>\n",
       "      <td>44604.0</td>\n",
       "      <td>True</td>\n",
       "      <td>5162.0</td>\n",
       "    </tr>\n",
       "    <tr>\n",
       "      <th>IL</th>\n",
       "      <td>37496.0</td>\n",
       "      <td>202769.0</td>\n",
       "      <td>23903.0</td>\n",
       "      <td>True</td>\n",
       "      <td>-110120.0</td>\n",
       "    </tr>\n",
       "    <tr>\n",
       "      <th>IN</th>\n",
       "      <td>26251.0</td>\n",
       "      <td>80949.0</td>\n",
       "      <td>52985.0</td>\n",
       "      <td>True</td>\n",
       "      <td>-9522.0</td>\n",
       "    </tr>\n",
       "    <tr>\n",
       "      <th>LA</th>\n",
       "      <td>27095.0</td>\n",
       "      <td>115068.0</td>\n",
       "      <td>56311.0</td>\n",
       "      <td>True</td>\n",
       "      <td>-1437.0</td>\n",
       "    </tr>\n",
       "    <tr>\n",
       "      <th>MI</th>\n",
       "      <td>45312.0</td>\n",
       "      <td>168088.0</td>\n",
       "      <td>16424.0</td>\n",
       "      <td>True</td>\n",
       "      <td>-83968.0</td>\n",
       "    </tr>\n",
       "    <tr>\n",
       "      <th>MO</th>\n",
       "      <td>37715.0</td>\n",
       "      <td>66455.0</td>\n",
       "      <td>32530.0</td>\n",
       "      <td>True</td>\n",
       "      <td>3095.0</td>\n",
       "    </tr>\n",
       "    <tr>\n",
       "      <th>MT</th>\n",
       "      <td>6200.0</td>\n",
       "      <td>14559.0</td>\n",
       "      <td>17335.0</td>\n",
       "      <td>True</td>\n",
       "      <td>5571.0</td>\n",
       "    </tr>\n",
       "    <tr>\n",
       "      <th>NC</th>\n",
       "      <td>99228.0</td>\n",
       "      <td>182750.0</td>\n",
       "      <td>14823.0</td>\n",
       "      <td>True</td>\n",
       "      <td>-68699.0</td>\n",
       "    </tr>\n",
       "    <tr>\n",
       "      <th>ND</th>\n",
       "      <td>1722.0</td>\n",
       "      <td>7199.0</td>\n",
       "      <td>6946.0</td>\n",
       "      <td>True</td>\n",
       "      <td>1803.0</td>\n",
       "    </tr>\n",
       "    <tr>\n",
       "      <th>NE</th>\n",
       "      <td>6538.0</td>\n",
       "      <td>18175.0</td>\n",
       "      <td>6120.0</td>\n",
       "      <td>True</td>\n",
       "      <td>-807.0</td>\n",
       "    </tr>\n",
       "    <tr>\n",
       "      <th>NH</th>\n",
       "      <td>6786.0</td>\n",
       "      <td>11093.0</td>\n",
       "      <td>11258.0</td>\n",
       "      <td>True</td>\n",
       "      <td>2016.0</td>\n",
       "    </tr>\n",
       "    <tr>\n",
       "      <th>OH</th>\n",
       "      <td>35638.0</td>\n",
       "      <td>216701.0</td>\n",
       "      <td>78506.0</td>\n",
       "      <td>True</td>\n",
       "      <td>-101398.0</td>\n",
       "    </tr>\n",
       "    <tr>\n",
       "      <th>OK</th>\n",
       "      <td>29172.0</td>\n",
       "      <td>61544.0</td>\n",
       "      <td>90327.0</td>\n",
       "      <td>True</td>\n",
       "      <td>57955.0</td>\n",
       "    </tr>\n",
       "    <tr>\n",
       "      <th>OR</th>\n",
       "      <td>13652.0</td>\n",
       "      <td>114295.0</td>\n",
       "      <td>23826.0</td>\n",
       "      <td>True</td>\n",
       "      <td>-65063.0</td>\n",
       "    </tr>\n",
       "    <tr>\n",
       "      <th>SD</th>\n",
       "      <td>2426.0</td>\n",
       "      <td>4699.0</td>\n",
       "      <td>6134.0</td>\n",
       "      <td>True</td>\n",
       "      <td>1813.0</td>\n",
       "    </tr>\n",
       "    <tr>\n",
       "      <th>UT</th>\n",
       "      <td>15293.0</td>\n",
       "      <td>17101.0</td>\n",
       "      <td>21695.0</td>\n",
       "      <td>True</td>\n",
       "      <td>19333.0</td>\n",
       "    </tr>\n",
       "    <tr>\n",
       "      <th>VA</th>\n",
       "      <td>4129.0</td>\n",
       "      <td>136542.0</td>\n",
       "      <td>35998.0</td>\n",
       "      <td>True</td>\n",
       "      <td>-44012.0</td>\n",
       "    </tr>\n",
       "    <tr>\n",
       "      <th>WV</th>\n",
       "      <td>5576.0</td>\n",
       "      <td>32092.0</td>\n",
       "      <td>22562.0</td>\n",
       "      <td>True</td>\n",
       "      <td>-239.0</td>\n",
       "    </tr>\n",
       "  </tbody>\n",
       "</table>\n",
       "</div>"
      ],
      "text/plain": [
       "       QHP Enrolled  Medicaid renewed  Medicaid terminated  Expansion  \\\n",
       "State                                                                   \n",
       "AK           2610.0            6516.0               9919.0       True   \n",
       "AR          17332.0           61236.0              62711.0       True   \n",
       "AZ          27593.0          178491.0              66657.0       True   \n",
       "DE           3659.0           11926.0               4615.0       True   \n",
       "HI           2083.0           25625.0              10612.0       True   \n",
       "IA           9760.0           43315.0              44604.0       True   \n",
       "IL          37496.0          202769.0              23903.0       True   \n",
       "IN          26251.0           80949.0              52985.0       True   \n",
       "LA          27095.0          115068.0              56311.0       True   \n",
       "MI          45312.0          168088.0              16424.0       True   \n",
       "MO          37715.0           66455.0              32530.0       True   \n",
       "MT           6200.0           14559.0              17335.0       True   \n",
       "NC          99228.0          182750.0              14823.0       True   \n",
       "ND           1722.0            7199.0               6946.0       True   \n",
       "NE           6538.0           18175.0               6120.0       True   \n",
       "NH           6786.0           11093.0              11258.0       True   \n",
       "OH          35638.0          216701.0              78506.0       True   \n",
       "OK          29172.0           61544.0              90327.0       True   \n",
       "OR          13652.0          114295.0              23826.0       True   \n",
       "SD           2426.0            4699.0               6134.0       True   \n",
       "UT          15293.0           17101.0              21695.0       True   \n",
       "VA           4129.0          136542.0              35998.0       True   \n",
       "WV           5576.0           32092.0              22562.0       True   \n",
       "\n",
       "       Coverage gap  \n",
       "State                \n",
       "AK           3589.0  \n",
       "AR          14421.0  \n",
       "AZ         -81299.0  \n",
       "DE          -2252.0  \n",
       "HI         -10755.0  \n",
       "IA           5162.0  \n",
       "IL        -110120.0  \n",
       "IN          -9522.0  \n",
       "LA          -1437.0  \n",
       "MI         -83968.0  \n",
       "MO           3095.0  \n",
       "MT           5571.0  \n",
       "NC         -68699.0  \n",
       "ND           1803.0  \n",
       "NE           -807.0  \n",
       "NH           2016.0  \n",
       "OH        -101398.0  \n",
       "OK          57955.0  \n",
       "OR         -65063.0  \n",
       "SD           1813.0  \n",
       "UT          19333.0  \n",
       "VA         -44012.0  \n",
       "WV           -239.0  "
      ]
     },
     "execution_count": 90,
     "metadata": {},
     "output_type": "execute_result"
    }
   ],
   "source": [
    "biggest_has_expanded"
   ]
  },
  {
   "cell_type": "markdown",
   "id": "affe07bf",
   "metadata": {},
   "source": [
    "### Step 2.d"
   ]
  },
  {
   "cell_type": "markdown",
   "id": "a7c5b6ec",
   "metadata": {},
   "source": [
    "Because these subsets do not have normal distribution, a non parametric Mann-Whitney U test is run as an alternative to the Independent One-Sided T Test."
   ]
  },
  {
   "cell_type": "code",
   "execution_count": 94,
   "id": "06e82a30",
   "metadata": {},
   "outputs": [
    {
     "name": "stdout",
     "output_type": "stream",
     "text": [
      "69.0\n",
      "0.008643652353399036\n"
     ]
    }
   ],
   "source": [
    "from scipy.stats import mannwhitneyu\n",
    "U1, p = mannwhitneyu(biggest_has_expanded['Coverage gap'], biggest_hasnt_expanded['Coverage gap'], method = 'auto', alternative = 'less')\n",
    "print(U1)\n",
    "\n",
    "print(p)"
   ]
  },
  {
   "cell_type": "markdown",
   "id": "b6c79cc1",
   "metadata": {},
   "source": [
    "Because the p value is less than .05, it is deemed statistically significant. This reinforces the Mann-Whitney U test results from the larger dataset, and further supports the research hypothesis.  "
   ]
  },
  {
   "cell_type": "markdown",
   "id": "4b9af5a0",
   "metadata": {},
   "source": [
    "### Step 2.e"
   ]
  },
  {
   "cell_type": "markdown",
   "id": "9d48b6b7",
   "metadata": {},
   "source": [
    "Group statistics for the biggest possible coverage gaps accross all states are now be generated to include the mean, N, standard deviation, and standard error mean."
   ]
  },
  {
   "cell_type": "code",
   "execution_count": 59,
   "id": "973699b3",
   "metadata": {},
   "outputs": [
    {
     "data": {
      "text/plain": [
       "-20209.260869565216"
      ]
     },
     "execution_count": 59,
     "metadata": {},
     "output_type": "execute_result"
    }
   ],
   "source": [
    "biggest_has_expanded['Coverage gap'].mean()"
   ]
  },
  {
   "cell_type": "code",
   "execution_count": 60,
   "id": "950beca5",
   "metadata": {},
   "outputs": [
    {
     "data": {
      "text/plain": [
       "34153.0"
      ]
     },
     "execution_count": 60,
     "metadata": {},
     "output_type": "execute_result"
    }
   ],
   "source": [
    "biggest_hasnt_expanded['Coverage gap'].mean()"
   ]
  },
  {
   "cell_type": "code",
   "execution_count": 61,
   "id": "fa9e1012",
   "metadata": {},
   "outputs": [
    {
     "data": {
      "text/plain": [
       "23"
      ]
     },
     "execution_count": 61,
     "metadata": {},
     "output_type": "execute_result"
    }
   ],
   "source": [
    "biggest_has_expanded['Coverage gap'].count()"
   ]
  },
  {
   "cell_type": "code",
   "execution_count": 62,
   "id": "3a0e322d",
   "metadata": {},
   "outputs": [
    {
     "data": {
      "text/plain": [
       "12"
      ]
     },
     "execution_count": 62,
     "metadata": {},
     "output_type": "execute_result"
    }
   ],
   "source": [
    "biggest_hasnt_expanded['Coverage gap'].count()"
   ]
  },
  {
   "cell_type": "code",
   "execution_count": 63,
   "id": "107dfb80",
   "metadata": {},
   "outputs": [],
   "source": [
    "import statistics"
   ]
  },
  {
   "cell_type": "code",
   "execution_count": 64,
   "id": "08868a3c",
   "metadata": {},
   "outputs": [
    {
     "data": {
      "text/plain": [
       "43594.117900987716"
      ]
     },
     "execution_count": 64,
     "metadata": {},
     "output_type": "execute_result"
    }
   ],
   "source": [
    "statistics.stdev(biggest_has_expanded['Coverage gap'])"
   ]
  },
  {
   "cell_type": "code",
   "execution_count": 65,
   "id": "5f037400",
   "metadata": {},
   "outputs": [
    {
     "data": {
      "text/plain": [
       "62315.9892877349"
      ]
     },
     "execution_count": 65,
     "metadata": {},
     "output_type": "execute_result"
    }
   ],
   "source": [
    "statistics.stdev(biggest_hasnt_expanded['Coverage gap'])"
   ]
  },
  {
   "cell_type": "code",
   "execution_count": 66,
   "id": "f6824ea0",
   "metadata": {},
   "outputs": [],
   "source": [
    "from scipy.stats import sem"
   ]
  },
  {
   "cell_type": "code",
   "execution_count": 67,
   "id": "3a4d2e3f",
   "metadata": {},
   "outputs": [
    {
     "data": {
      "text/plain": [
       "9090.001950459487"
      ]
     },
     "execution_count": 67,
     "metadata": {},
     "output_type": "execute_result"
    }
   ],
   "source": [
    "sem(biggest_has_expanded['Coverage gap'])"
   ]
  },
  {
   "cell_type": "code",
   "execution_count": 68,
   "id": "ffa1eaaa",
   "metadata": {},
   "outputs": [
    {
     "data": {
      "text/plain": [
       "17989.076595045794"
      ]
     },
     "execution_count": 68,
     "metadata": {},
     "output_type": "execute_result"
    }
   ],
   "source": [
    "sem(biggest_hasnt_expanded['Coverage gap'])"
   ]
  },
  {
   "cell_type": "markdown",
   "id": "f0e5394d",
   "metadata": {},
   "source": [
    "#### Figure 4. Box plot showing the difference of medians, quartiles, and outliers in the biggest possible coverage gaps grouped by the independent variable, Medicaid eligibility expansion."
   ]
  },
  {
   "cell_type": "code",
   "execution_count": 69,
   "id": "cebf9150",
   "metadata": {},
   "outputs": [
    {
     "data": {
      "image/png": "[encoded data removed]",
      "text/plain": [
       "<Figure size 640x480 with 1 Axes>"
      ]
     },
     "metadata": {},
     "output_type": "display_data"
    }
   ],
   "source": [
    "boxplot = biggest_unwinding_33.boxplot(column = ['Coverage gap'], by = 'Expansion')"
   ]
  },
  {
   "cell_type": "markdown",
   "id": "5580af5e",
   "metadata": {},
   "source": [
    "### 3. South Dakota"
   ]
  },
  {
   "cell_type": "markdown",
   "id": "60573a1a",
   "metadata": {},
   "source": [
    "One state in this dataset is unique: South Dakota. This is because South Dakota started out in the reporting period with a more restrictive Medicaid eligibility criteria (Expansion = False), and then seveal months into the reporting period, an expanded Medicaid eligibility criteria (Expansion = True) took effect."
   ]
  },
  {
   "cell_type": "markdown",
   "id": "be539e05",
   "metadata": {},
   "source": [
    "#### Figure 5. Histograms showing possible coverage gaps in South Dakota before and after expanding Medicaid eligibility criteria"
   ]
  },
  {
   "cell_type": "code",
   "execution_count": 70,
   "id": "4d6cd352",
   "metadata": {},
   "outputs": [],
   "source": [
    "sd_unwinding_33 = unwinding_33[(unwinding_33['State'] == 'SD')]"
   ]
  },
  {
   "cell_type": "code",
   "execution_count": 71,
   "id": "dfa5c3e7",
   "metadata": {},
   "outputs": [
    {
     "name": "stderr",
     "output_type": "stream",
     "text": [
      "/Users/zoe/anaconda3/lib/python3.11/site-packages/seaborn/axisgrid.py:118: UserWarning: The figure layout has changed to tight\n",
      "  self._figure.tight_layout(*args, **kwargs)\n"
     ]
    },
    {
     "data": {
      "image/png": "[encoded data removed]",
      "text/plain": [
       "<Figure size 1000x500 with 2 Axes>"
      ]
     },
     "metadata": {},
     "output_type": "display_data"
    }
   ],
   "source": [
    "fig = sns.displot(data = sd_unwinding_33, col = 'Expansion', x = 'Coverage gap', kind = 'hist')\n",
    "\n",
    "fig.set_axis_labels(x_var = 'Possible coverage gaps', y_var = 'Count by month')\n",
    "\n",
    "plt.show()"
   ]
  },
  {
   "cell_type": "markdown",
   "id": "7382e7f8",
   "metadata": {},
   "source": [
    "### Step 3.a"
   ]
  },
  {
   "cell_type": "markdown",
   "id": "42e247c8",
   "metadata": {},
   "source": [
    "Two additional subsets are created to represent South Dakota coverage gap data so that this state can be comparatively analyzed against itself in the before and after periods of policy intervention. "
   ]
  },
  {
   "cell_type": "code",
   "execution_count": 72,
   "id": "7284392b",
   "metadata": {},
   "outputs": [
    {
     "data": {
      "text/html": [
       "<div>\n",
       "<style scoped>\n",
       "    .dataframe tbody tr th:only-of-type {\n",
       "        vertical-align: middle;\n",
       "    }\n",
       "\n",
       "    .dataframe tbody tr th {\n",
       "        vertical-align: top;\n",
       "    }\n",
       "\n",
       "    .dataframe thead th {\n",
       "        text-align: right;\n",
       "    }\n",
       "</style>\n",
       "<table border=\"1\" class=\"dataframe\">\n",
       "  <thead>\n",
       "    <tr style=\"text-align: right;\">\n",
       "      <th></th>\n",
       "      <th>State</th>\n",
       "      <th>Month</th>\n",
       "      <th>QHP Enrolled</th>\n",
       "      <th>Medicaid renewed</th>\n",
       "      <th>Medicaid terminated</th>\n",
       "      <th>Expansion</th>\n",
       "      <th>Coverage gap</th>\n",
       "    </tr>\n",
       "  </thead>\n",
       "  <tbody>\n",
       "    <tr>\n",
       "      <th>124</th>\n",
       "      <td>SD</td>\n",
       "      <td>July</td>\n",
       "      <td>378.0</td>\n",
       "      <td>4699.0</td>\n",
       "      <td>6134.0</td>\n",
       "      <td>True</td>\n",
       "      <td>1813.0</td>\n",
       "    </tr>\n",
       "    <tr>\n",
       "      <th>157</th>\n",
       "      <td>SD</td>\n",
       "      <td>August</td>\n",
       "      <td>360.0</td>\n",
       "      <td>4088.0</td>\n",
       "      <td>4749.0</td>\n",
       "      <td>True</td>\n",
       "      <td>1021.0</td>\n",
       "    </tr>\n",
       "    <tr>\n",
       "      <th>190</th>\n",
       "      <td>SD</td>\n",
       "      <td>September</td>\n",
       "      <td>326.0</td>\n",
       "      <td>3337.0</td>\n",
       "      <td>3581.0</td>\n",
       "      <td>True</td>\n",
       "      <td>570.0</td>\n",
       "    </tr>\n",
       "    <tr>\n",
       "      <th>223</th>\n",
       "      <td>SD</td>\n",
       "      <td>October</td>\n",
       "      <td>400.0</td>\n",
       "      <td>3413.0</td>\n",
       "      <td>2991.0</td>\n",
       "      <td>True</td>\n",
       "      <td>-22.0</td>\n",
       "    </tr>\n",
       "    <tr>\n",
       "      <th>256</th>\n",
       "      <td>SD</td>\n",
       "      <td>November</td>\n",
       "      <td>1209.0</td>\n",
       "      <td>2656.0</td>\n",
       "      <td>2477.0</td>\n",
       "      <td>True</td>\n",
       "      <td>1030.0</td>\n",
       "    </tr>\n",
       "  </tbody>\n",
       "</table>\n",
       "</div>"
      ],
      "text/plain": [
       "    State      Month  QHP Enrolled  Medicaid renewed  Medicaid terminated  \\\n",
       "124    SD       July         378.0            4699.0               6134.0   \n",
       "157    SD     August         360.0            4088.0               4749.0   \n",
       "190    SD  September         326.0            3337.0               3581.0   \n",
       "223    SD    October         400.0            3413.0               2991.0   \n",
       "256    SD   November        1209.0            2656.0               2477.0   \n",
       "\n",
       "     Expansion  Coverage gap  \n",
       "124       True        1813.0  \n",
       "157       True        1021.0  \n",
       "190       True         570.0  \n",
       "223       True         -22.0  \n",
       "256       True        1030.0  "
      ]
     },
     "execution_count": 72,
     "metadata": {},
     "output_type": "execute_result"
    }
   ],
   "source": [
    "sd_has_expanded = has_expanded[(has_expanded['State'] == 'SD')]\n",
    "sd_has_expanded.head()"
   ]
  },
  {
   "cell_type": "code",
   "execution_count": 73,
   "id": "33d261dd",
   "metadata": {},
   "outputs": [
    {
     "data": {
      "text/html": [
       "<div>\n",
       "<style scoped>\n",
       "    .dataframe tbody tr th:only-of-type {\n",
       "        vertical-align: middle;\n",
       "    }\n",
       "\n",
       "    .dataframe tbody tr th {\n",
       "        vertical-align: top;\n",
       "    }\n",
       "\n",
       "    .dataframe thead th {\n",
       "        text-align: right;\n",
       "    }\n",
       "</style>\n",
       "<table border=\"1\" class=\"dataframe\">\n",
       "  <thead>\n",
       "    <tr style=\"text-align: right;\">\n",
       "      <th></th>\n",
       "      <th>State</th>\n",
       "      <th>Month</th>\n",
       "      <th>QHP Enrolled</th>\n",
       "      <th>Medicaid renewed</th>\n",
       "      <th>Medicaid terminated</th>\n",
       "      <th>Expansion</th>\n",
       "      <th>Coverage gap</th>\n",
       "    </tr>\n",
       "  </thead>\n",
       "  <tbody>\n",
       "    <tr>\n",
       "      <th>25</th>\n",
       "      <td>SD</td>\n",
       "      <td>April</td>\n",
       "      <td>436.0</td>\n",
       "      <td>6167.0</td>\n",
       "      <td>9715.0</td>\n",
       "      <td>False</td>\n",
       "      <td>3984.0</td>\n",
       "    </tr>\n",
       "    <tr>\n",
       "      <th>58</th>\n",
       "      <td>SD</td>\n",
       "      <td>May</td>\n",
       "      <td>626.0</td>\n",
       "      <td>5450.0</td>\n",
       "      <td>7789.0</td>\n",
       "      <td>False</td>\n",
       "      <td>2965.0</td>\n",
       "    </tr>\n",
       "    <tr>\n",
       "      <th>91</th>\n",
       "      <td>SD</td>\n",
       "      <td>June</td>\n",
       "      <td>463.0</td>\n",
       "      <td>5450.0</td>\n",
       "      <td>7789.0</td>\n",
       "      <td>False</td>\n",
       "      <td>2802.0</td>\n",
       "    </tr>\n",
       "  </tbody>\n",
       "</table>\n",
       "</div>"
      ],
      "text/plain": [
       "   State  Month  QHP Enrolled  Medicaid renewed  Medicaid terminated  \\\n",
       "25    SD  April         436.0            6167.0               9715.0   \n",
       "58    SD    May         626.0            5450.0               7789.0   \n",
       "91    SD   June         463.0            5450.0               7789.0   \n",
       "\n",
       "    Expansion  Coverage gap  \n",
       "25      False        3984.0  \n",
       "58      False        2965.0  \n",
       "91      False        2802.0  "
      ]
     },
     "execution_count": 73,
     "metadata": {},
     "output_type": "execute_result"
    }
   ],
   "source": [
    "sd_hasnt_expanded = has_not_expanded[(has_not_expanded['State'] == 'SD')]\n",
    "sd_hasnt_expanded.head()"
   ]
  },
  {
   "cell_type": "markdown",
   "id": "209d5bbf",
   "metadata": {},
   "source": [
    "### Step 3.b"
   ]
  },
  {
   "cell_type": "markdown",
   "id": "b32de991",
   "metadata": {},
   "source": [
    "Because the South Dakota subset is significantly smaller than the others, a test for normality (Shapiro-Wilk test) is run to prove or disprove the null hypothesis that the two samples have a normal distribution."
   ]
  },
  {
   "cell_type": "code",
   "execution_count": 74,
   "id": "439fd378",
   "metadata": {},
   "outputs": [
    {
     "name": "stdout",
     "output_type": "stream",
     "text": [
      "0.9736907482147217 0.9162458777427673\n",
      "0.8511940836906433 0.24364870700839925\n"
     ]
    }
   ],
   "source": [
    "from scipy.stats import shapiro\n",
    "\n",
    "sample1 = sd_has_expanded['Coverage gap']\n",
    "sample2 = sd_hasnt_expanded['Coverage gap']\n",
    "\n",
    "stat, p = shapiro(sample1)\n",
    "print(stat, p)\n",
    "stat, p = shapiro(sample2)\n",
    "print(stat, p)"
   ]
  },
  {
   "cell_type": "markdown",
   "id": "7c19c3a3",
   "metadata": {},
   "source": [
    "Because both p values are greater than .05, it may be concluded that both datasets are normally distributed and the null hypothesis may be accepted."
   ]
  },
  {
   "cell_type": "markdown",
   "id": "90d4162d",
   "metadata": {},
   "source": [
    "### Step 3.c"
   ]
  },
  {
   "cell_type": "markdown",
   "id": "444933c5",
   "metadata": {},
   "source": [
    "The Levene's test for equality of variance is now run."
   ]
  },
  {
   "cell_type": "code",
   "execution_count": 75,
   "id": "bd9703ba",
   "metadata": {},
   "outputs": [
    {
     "data": {
      "text/plain": [
       "LeveneResult(statistic=0.03767979369305249, pvalue=0.8516005543562672)"
      ]
     },
     "execution_count": 75,
     "metadata": {},
     "output_type": "execute_result"
    }
   ],
   "source": [
    "res = stats.levene(sd_has_expanded['Coverage gap'].dropna(), sd_hasnt_expanded['Coverage gap'].dropna())\n",
    "res"
   ]
  },
  {
   "cell_type": "markdown",
   "id": "4b612ad5",
   "metadata": {},
   "source": [
    "### Step 3.d"
   ]
  },
  {
   "cell_type": "markdown",
   "id": "04997d03",
   "metadata": {},
   "source": [
    "Because the p value is greater than .05, equal variance can be assumed. Therefore, we will run the one sided t test to assume equal variance."
   ]
  },
  {
   "cell_type": "code",
   "execution_count": 96,
   "id": "69e8c754",
   "metadata": {},
   "outputs": [
    {
     "data": {
      "text/plain": [
       "TtestResult(statistic=4.964756446908954, pvalue=0.0008144031258406659, df=7.0)"
      ]
     },
     "execution_count": 96,
     "metadata": {},
     "output_type": "execute_result"
    }
   ],
   "source": [
    "sample1 = sd_has_expanded['Coverage gap']\n",
    "sample2 = sd_hasnt_expanded['Coverage gap']\n",
    "\n",
    "stats.ttest_ind(sample2, sample1, nan_policy = 'omit', alternative = 'greater', equal_var = True)"
   ]
  },
  {
   "cell_type": "markdown",
   "id": "30e3766c",
   "metadata": {},
   "source": [
    "Because the p value is less than .05, it is deemed statistically significant. This shows that there is a meaningful difference in the mean possible coverage gaps between the periods before and after South Dakota expanded its Medicaid eligibility criteria. "
   ]
  },
  {
   "cell_type": "markdown",
   "id": "6e85594e",
   "metadata": {},
   "source": [
    "For comparative purposes, the same test will be run without assuming equal variance."
   ]
  },
  {
   "cell_type": "code",
   "execution_count": 95,
   "id": "36e3c6a7",
   "metadata": {},
   "outputs": [
    {
     "data": {
      "text/plain": [
       "TtestResult(statistic=4.990103395460634, pvalue=0.0034363536163340464, df=4.144483011715942)"
      ]
     },
     "execution_count": 95,
     "metadata": {},
     "output_type": "execute_result"
    }
   ],
   "source": [
    "sample1 = sd_has_expanded['Coverage gap']\n",
    "sample2 = sd_hasnt_expanded['Coverage gap']\n",
    "\n",
    "stats.ttest_ind(sample2, sample1, nan_policy = 'omit', alternative = 'greater', equal_var = False)"
   ]
  },
  {
   "cell_type": "markdown",
   "id": "6f0b4f13",
   "metadata": {},
   "source": [
    "### Step 3.e"
   ]
  },
  {
   "cell_type": "markdown",
   "id": "83ad3193",
   "metadata": {},
   "source": [
    "Group statistics for possible coverage gaps in South Dakota will now be generated to include the mean, N, standard deviation, and standard error mean."
   ]
  },
  {
   "cell_type": "code",
   "execution_count": 78,
   "id": "c40783b5",
   "metadata": {},
   "outputs": [
    {
     "data": {
      "text/plain": [
       "979.8333333333334"
      ]
     },
     "execution_count": 78,
     "metadata": {},
     "output_type": "execute_result"
    }
   ],
   "source": [
    "sd_has_expanded['Coverage gap'].mean()"
   ]
  },
  {
   "cell_type": "code",
   "execution_count": 79,
   "id": "4af4ee4e",
   "metadata": {},
   "outputs": [
    {
     "data": {
      "text/plain": [
       "3250.3333333333335"
      ]
     },
     "execution_count": 79,
     "metadata": {},
     "output_type": "execute_result"
    }
   ],
   "source": [
    "sd_hasnt_expanded['Coverage gap'].mean()"
   ]
  },
  {
   "cell_type": "code",
   "execution_count": 80,
   "id": "f5124698",
   "metadata": {},
   "outputs": [
    {
     "data": {
      "text/plain": [
       "6"
      ]
     },
     "execution_count": 80,
     "metadata": {},
     "output_type": "execute_result"
    }
   ],
   "source": [
    "sd_has_expanded['Coverage gap'].count()"
   ]
  },
  {
   "cell_type": "code",
   "execution_count": 81,
   "id": "b2c9c7dd",
   "metadata": {},
   "outputs": [
    {
     "data": {
      "text/plain": [
       "3"
      ]
     },
     "execution_count": 81,
     "metadata": {},
     "output_type": "execute_result"
    }
   ],
   "source": [
    "sd_hasnt_expanded['Coverage gap'].count()"
   ]
  },
  {
   "cell_type": "code",
   "execution_count": 82,
   "id": "363100f6",
   "metadata": {},
   "outputs": [
    {
     "data": {
      "text/plain": [
       "649.206104920977"
      ]
     },
     "execution_count": 82,
     "metadata": {},
     "output_type": "execute_result"
    }
   ],
   "source": [
    "statistics.stdev(sd_has_expanded['Coverage gap'])"
   ]
  },
  {
   "cell_type": "code",
   "execution_count": 83,
   "id": "dca69a62",
   "metadata": {},
   "outputs": [
    {
     "data": {
      "text/plain": [
       "640.5796853892053"
      ]
     },
     "execution_count": 83,
     "metadata": {},
     "output_type": "execute_result"
    }
   ],
   "source": [
    "statistics.stdev(sd_hasnt_expanded['Coverage gap'])"
   ]
  },
  {
   "cell_type": "code",
   "execution_count": 84,
   "id": "3e95dd5d",
   "metadata": {},
   "outputs": [
    {
     "data": {
      "text/plain": [
       "265.0372824926922"
      ]
     },
     "execution_count": 84,
     "metadata": {},
     "output_type": "execute_result"
    }
   ],
   "source": [
    "sem(sd_has_expanded['Coverage gap'])"
   ]
  },
  {
   "cell_type": "code",
   "execution_count": 85,
   "id": "b546ebad",
   "metadata": {},
   "outputs": [
    {
     "data": {
      "text/plain": [
       "369.8388537968636"
      ]
     },
     "execution_count": 85,
     "metadata": {},
     "output_type": "execute_result"
    }
   ],
   "source": [
    "sem(sd_hasnt_expanded['Coverage gap'])"
   ]
  },
  {
   "cell_type": "markdown",
   "id": "ff7583c7",
   "metadata": {},
   "source": [
    "#### Figure 6. Box plot showing the difference in medians, quartiles, and outliers in possible coverage gaps in South Dakota only, before and after the state expanded its Medicaid eligibility criteria"
   ]
  },
  {
   "cell_type": "code",
   "execution_count": 86,
   "id": "940825b1",
   "metadata": {},
   "outputs": [
    {
     "data": {
      "image/png": "[encoded data removed]",
      "text/plain": [
       "<Figure size 640x480 with 1 Axes>"
      ]
     },
     "metadata": {},
     "output_type": "display_data"
    }
   ],
   "source": [
    "boxplot = sd_unwinding_33.boxplot(column = ['Coverage gap'], by = 'Expansion')"
   ]
  }
 ],
 "metadata": {
  "kernelspec": {
   "display_name": "Python 3 (ipykernel)",
   "language": "python",
   "name": "python3"
  },
  "language_info": {
   "codemirror_mode": {
    "name": "ipython",
    "version": 3
   },
   "file_extension": ".py",
   "mimetype": "text/x-python",
   "name": "python",
   "nbconvert_exporter": "python",
   "pygments_lexer": "ipython3",
   "version": "3.11.5"
  }
 },
 "nbformat": 4,
 "nbformat_minor": 5
}
